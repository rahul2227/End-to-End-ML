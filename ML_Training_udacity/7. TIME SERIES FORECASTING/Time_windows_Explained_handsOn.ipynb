{
  "nbformat": 4,
  "nbformat_minor": 0,
  "metadata": {
    "colab": {
      "name": "Time_windows_Explained_handsOn.ipynb",
      "provenance": []
    },
    "kernelspec": {
      "name": "python3",
      "display_name": "Python 3"
    },
    "accelerator": "GPU"
  },
  "cells": [
    {
      "cell_type": "code",
      "metadata": {
        "id": "4XerAOhzuPbr",
        "colab_type": "code",
        "colab": {}
      },
      "source": [
        "import tensorflow as tf"
      ],
      "execution_count": 1,
      "outputs": []
    },
    {
      "cell_type": "code",
      "metadata": {
        "id": "-hOenDovvDh1",
        "colab_type": "code",
        "colab": {
          "base_uri": "https://localhost:8080/",
          "height": 187
        },
        "outputId": "35ae936a-4265-4f0d-dd2e-72db2755dc88"
      },
      "source": [
        "#time_windows\n",
        "\n",
        "#training the model to forecast the next step by training it on a time window of\n",
        "#20 steps\n",
        "\n",
        "dataset = tf.data.Dataset.range(10) #simply making a artificial dataset with the \n",
        "# help of range function \n",
        "for val in dataset:\n",
        "  print(val.numpy())"
      ],
      "execution_count": 2,
      "outputs": [
        {
          "output_type": "stream",
          "text": [
            "0\n",
            "1\n",
            "2\n",
            "3\n",
            "4\n",
            "5\n",
            "6\n",
            "7\n",
            "8\n",
            "9\n"
          ],
          "name": "stdout"
        }
      ]
    },
    {
      "cell_type": "code",
      "metadata": {
        "id": "5nvW22h9vxia",
        "colab_type": "code",
        "colab": {
          "base_uri": "https://localhost:8080/",
          "height": 187
        },
        "outputId": "95954e0d-26a8-49c9-f974-54f9456d2cd1"
      },
      "source": [
        "dataset = tf.data.Dataset.range(10)\n",
        "dataset = dataset.window(5, shift=1) #it creates a window of size 5 and shift of 1 \n",
        "# shift paramenter specifies how much we are shifting our data in the next step\n",
        "#window returns a window/ tensor of dataset that means each elements is a dataset in itself\n",
        "for window_dataset in dataset: # dataset of windows where each window is a dataset\n",
        "  for val in window_dataset: #iterating of each dataset value\n",
        "    print(val.numpy(), end=\" \") #converting dataset into value by using numpy function\n",
        "  print()"
      ],
      "execution_count": 3,
      "outputs": [
        {
          "output_type": "stream",
          "text": [
            "0 1 2 3 4 \n",
            "1 2 3 4 5 \n",
            "2 3 4 5 6 \n",
            "3 4 5 6 7 \n",
            "4 5 6 7 8 \n",
            "5 6 7 8 9 \n",
            "6 7 8 9 \n",
            "7 8 9 \n",
            "8 9 \n",
            "9 \n"
          ],
          "name": "stdout"
        }
      ]
    },
    {
      "cell_type": "code",
      "metadata": {
        "id": "KIf244UZxJB0",
        "colab_type": "code",
        "colab": {
          "base_uri": "https://localhost:8080/",
          "height": 119
        },
        "outputId": "0a0e448a-bd05-447d-dacb-4a64fb6f5542"
      },
      "source": [
        "dataset = tf.data.Dataset.range(10)\n",
        "dataset = dataset.window(5, shift=1, drop_remainder=True) #as many models requires\n",
        "# a datset with equal number of values on every axis we use drop_remainder to achieve that.\n",
        "# it gives us datasets of equal sizes\n",
        "for window_dataset in dataset:\n",
        "    for val in window_dataset:\n",
        "        print(val.numpy(), end=\" \")\n",
        "    print()"
      ],
      "execution_count": 4,
      "outputs": [
        {
          "output_type": "stream",
          "text": [
            "0 1 2 3 4 \n",
            "1 2 3 4 5 \n",
            "2 3 4 5 6 \n",
            "3 4 5 6 7 \n",
            "4 5 6 7 8 \n",
            "5 6 7 8 9 \n"
          ],
          "name": "stdout"
        }
      ]
    },
    {
      "cell_type": "code",
      "metadata": {
        "id": "TqfjEbwmxxEJ",
        "colab_type": "code",
        "colab": {
          "base_uri": "https://localhost:8080/",
          "height": 119
        },
        "outputId": "fbcca1f5-df54-490d-eee0-24071acf9501"
      },
      "source": [
        "dataset = tf.data.Dataset.range(10)\n",
        "dataset = dataset.window(5, shift=1, drop_remainder=True)\n",
        "#instead of having a dataset of windows where each window is a dataset it would \n",
        "# be better to have a single dataset containing batches of data in the form of \n",
        "# refular tensors, it is achieved by falt_map function which takes a finction as \n",
        "# an input and returns us with a single dataset with the specified window size or batch size\n",
        "dataset = dataset.flat_map(lambda window: window.batch(5)) # calling lambda function\n",
        "# on every single dataset inside nested dataset\n",
        "# windows.batch(size) it takes size elements from datset and creates a tensor out of them\n",
        "for window in dataset:\n",
        "    print(window.numpy())"
      ],
      "execution_count": 5,
      "outputs": [
        {
          "output_type": "stream",
          "text": [
            "[0 1 2 3 4]\n",
            "[1 2 3 4 5]\n",
            "[2 3 4 5 6]\n",
            "[3 4 5 6 7]\n",
            "[4 5 6 7 8]\n",
            "[5 6 7 8 9]\n"
          ],
          "name": "stdout"
        }
      ]
    },
    {
      "cell_type": "code",
      "metadata": {
        "id": "LH3_2Qlny0Z1",
        "colab_type": "code",
        "colab": {
          "base_uri": "https://localhost:8080/",
          "height": 119
        },
        "outputId": "4b9ae59b-7275-47a7-9b8c-08d96e3ce032"
      },
      "source": [
        "#usually our machine learning model requires a training set and also label set\n",
        "# as this is our time series we will be having first few elements as our train \n",
        "# and last with test\n",
        "dataset = tf.data.Dataset.range(10)\n",
        "dataset = dataset.window(5, shift=1, drop_remainder=True)\n",
        "dataset = dataset.flat_map(lambda window: window.batch(5))\n",
        "dataset = dataset.map(lambda window: (window[:-1], window[-1:])) # this function\n",
        "# returns two tensors one with n-1 element and another with last element\n",
        "# by calling the map we are converting each dataset into tensors of size two\n",
        "for x, y in dataset:\n",
        "    print(x.numpy(), y.numpy())"
      ],
      "execution_count": 6,
      "outputs": [
        {
          "output_type": "stream",
          "text": [
            "[0 1 2 3] [4]\n",
            "[1 2 3 4] [5]\n",
            "[2 3 4 5] [6]\n",
            "[3 4 5 6] [7]\n",
            "[4 5 6 7] [8]\n",
            "[5 6 7 8] [9]\n"
          ],
          "name": "stdout"
        }
      ]
    },
    {
      "cell_type": "code",
      "metadata": {
        "id": "o8HQC_n12Okj",
        "colab_type": "code",
        "colab": {
          "base_uri": "https://localhost:8080/",
          "height": 119
        },
        "outputId": "b8c62cba-669b-428d-83cd-808b7ee040ef"
      },
      "source": [
        "#while training our model we usually need shuffled dataset we can simply achieve that\n",
        "#by using the dataset.shuffle which takes buffer_size which randomly samples the \n",
        "#data from the buffer size\n",
        "dataset = tf.data.Dataset.range(10)\n",
        "dataset = dataset.window(5, shift=1, drop_remainder=True)\n",
        "dataset = dataset.flat_map(lambda window: window.batch(5))\n",
        "dataset = dataset.map(lambda window: (window[:-1], window[-1:]))\n",
        "dataset = dataset.shuffle(buffer_size=10) #shuffling the dataset instances and\n",
        "# ensuring that they are Independent and Identically Distributed or IID \n",
        "#necessary if we are usually using gradient descent\n",
        "for x, y in dataset:\n",
        "    print(x.numpy(), y.numpy())\n",
        "#we dont shuffle data inside the tensor as it is a time series"
      ],
      "execution_count": 7,
      "outputs": [
        {
          "output_type": "stream",
          "text": [
            "[2 3 4 5] [6]\n",
            "[5 6 7 8] [9]\n",
            "[3 4 5 6] [7]\n",
            "[0 1 2 3] [4]\n",
            "[4 5 6 7] [8]\n",
            "[1 2 3 4] [5]\n"
          ],
          "name": "stdout"
        }
      ]
    },
    {
      "cell_type": "code",
      "metadata": {
        "id": "U4UAfREF4OAW",
        "colab_type": "code",
        "colab": {
          "base_uri": "https://localhost:8080/",
          "height": 221
        },
        "outputId": "483d9710-a323-4e56-d04b-2cc030d150f4"
      },
      "source": [
        "dataset = tf.data.Dataset.range(10)\n",
        "dataset = dataset.window(5, shift=1, drop_remainder=True)\n",
        "dataset = dataset.flat_map(lambda window: window.batch(5))\n",
        "dataset = dataset.map(lambda window: (window[:-1], window[-1:]))\n",
        "dataset = dataset.shuffle(buffer_size=10)\n",
        "dataset = dataset.batch(2).prefetch(1)# creating the batches of two windows at \n",
        "# each training iteration and also calling prefetch method which will be ensuring\n",
        "# that our GPU keeps busy by preparing our next tensor paralelly\n",
        "for x, y in dataset:\n",
        "    print(\"x =\", x.numpy())\n",
        "    print(\"y =\", y.numpy())"
      ],
      "execution_count": 8,
      "outputs": [
        {
          "output_type": "stream",
          "text": [
            "x = [[2 3 4 5]\n",
            " [0 1 2 3]]\n",
            "y = [[6]\n",
            " [4]]\n",
            "x = [[1 2 3 4]\n",
            " [5 6 7 8]]\n",
            "y = [[5]\n",
            " [9]]\n",
            "x = [[3 4 5 6]\n",
            " [4 5 6 7]]\n",
            "y = [[7]\n",
            " [8]]\n"
          ],
          "name": "stdout"
        }
      ]
    },
    {
      "cell_type": "code",
      "metadata": {
        "id": "ta0KCXQ85_TV",
        "colab_type": "code",
        "colab": {}
      },
      "source": [
        "# final function for time window and dataset preparation\n",
        "def window_dataset(series, window_size, batch_size=32,\n",
        "                   shuffle_buffer=1000):\n",
        "    dataset = tf.data.Dataset.from_tensor_slices(series)\n",
        "    dataset = dataset.window(window_size + 1, shift=1, drop_remainder=True)\n",
        "    dataset = dataset.flat_map(lambda window: window.batch(window_size + 1))\n",
        "    dataset = dataset.shuffle(shuffle_buffer)\n",
        "    dataset = dataset.map(lambda window: (window[:-1], window[-1]))\n",
        "    dataset = dataset.batch(batch_size).prefetch(1)\n",
        "    return dataset\n",
        "    #it will convert any time series into a tennsorflow dataset which we can use\n",
        "    #for training our model ofcourse tuning of hyperparameter is required according\n",
        "    #to your needs"
      ],
      "execution_count": 9,
      "outputs": []
    },
    {
      "cell_type": "code",
      "metadata": {
        "id": "aIocp-Rg7Tdx",
        "colab_type": "code",
        "colab": {}
      },
      "source": [
        ""
      ],
      "execution_count": null,
      "outputs": []
    }
  ]
}