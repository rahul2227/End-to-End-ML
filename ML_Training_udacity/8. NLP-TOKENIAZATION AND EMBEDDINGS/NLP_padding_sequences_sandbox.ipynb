{
  "nbformat": 4,
  "nbformat_minor": 0,
  "metadata": {
    "colab": {
      "name": "NLP_padding-sequences_sandbox.ipynb",
      "provenance": []
    },
    "kernelspec": {
      "name": "python3",
      "display_name": "Python 3"
    }
  },
  "cells": [
    {
      "cell_type": "code",
      "metadata": {
        "id": "e1GZkK2kAfmD",
        "colab_type": "code",
        "colab": {}
      },
      "source": [
        "#importing libraries\n",
        "from tensorflow.keras.preprocessing.text import Tokenizer\n",
        "from tensorflow.keras.preprocessing.sequence import pad_sequences"
      ],
      "execution_count": 1,
      "outputs": []
    },
    {
      "cell_type": "code",
      "metadata": {
        "id": "PFeBQ7xvAszT",
        "colab_type": "code",
        "colab": {
          "base_uri": "https://localhost:8080/",
          "height": 54
        },
        "outputId": "19eb99eb-d1f4-495a-9158-c183143e3dcf"
      },
      "source": [
        "sentences = [\n",
        "    'My favorite food is ice cream',\n",
        "    'do you like ice cream too?',\n",
        "    'My dog likes ice cream!',\n",
        "    \"your favorite flavor of icecream is chocolate\",\n",
        "    \"chocolate isn't good for dogs\",\n",
        "    \"your dog, your cat, and your parrot prefer broccoli\",\n",
        "    \"My mother is really religious\",\n",
        "    \"My father is a clean freak\",\n",
        "    \"Sister is a supporter\"\n",
        "]\n",
        "print(sentences)"
      ],
      "execution_count": 2,
      "outputs": [
        {
          "output_type": "stream",
          "text": [
            "['My favorite food is ice cream', 'do you like ice cream too?', 'My dog likes ice cream!', 'your favorite flavor of icecream is chocolate', \"chocolate isn't good for dogs\", 'your dog, your cat, and your parrot prefer broccoli', 'My mother is really religious', 'My father is a clean freak', 'Sister is a supporter']\n"
          ],
          "name": "stdout"
        }
      ]
    },
    {
      "cell_type": "code",
      "metadata": {
        "id": "TgeB_5lKA45H",
        "colab_type": "code",
        "colab": {}
      },
      "source": [
        "#creating a tokenizer with OOV\n",
        "tokenizer = Tokenizer(num_words = 100, oov_token=\"<OOV>\")"
      ],
      "execution_count": 3,
      "outputs": []
    },
    {
      "cell_type": "code",
      "metadata": {
        "id": "HYA1dszFA_3Y",
        "colab_type": "code",
        "colab": {
          "base_uri": "https://localhost:8080/",
          "height": 54
        },
        "outputId": "6546832e-1002-49e8-8451-3e5611e5ad08"
      },
      "source": [
        "#fitting the tokenizer onto the sequences\n",
        "tokenizer.fit_on_texts(sentences)\n",
        "word_index = tokenizer.word_index\n",
        "print(word_index)"
      ],
      "execution_count": 4,
      "outputs": [
        {
          "output_type": "stream",
          "text": [
            "{'<OOV>': 1, 'is': 2, 'my': 3, 'your': 4, 'ice': 5, 'cream': 6, 'favorite': 7, 'dog': 8, 'chocolate': 9, 'a': 10, 'food': 11, 'do': 12, 'you': 13, 'like': 14, 'too': 15, 'likes': 16, 'flavor': 17, 'of': 18, 'icecream': 19, \"isn't\": 20, 'good': 21, 'for': 22, 'dogs': 23, 'cat': 24, 'and': 25, 'parrot': 26, 'prefer': 27, 'broccoli': 28, 'mother': 29, 'really': 30, 'religious': 31, 'father': 32, 'clean': 33, 'freak': 34, 'sister': 35, 'supporter': 36}\n"
          ],
          "name": "stdout"
        }
      ]
    },
    {
      "cell_type": "code",
      "metadata": {
        "id": "7O4t3urpBMRw",
        "colab_type": "code",
        "colab": {
          "base_uri": "https://localhost:8080/",
          "height": 54
        },
        "outputId": "026c0114-f8a2-478e-d52a-5c8dc31b9ce5"
      },
      "source": [
        "#converting sentences into sequences\n",
        "sequences = tokenizer.texts_to_sequences(sentences)\n",
        "print (sequences)"
      ],
      "execution_count": 5,
      "outputs": [
        {
          "output_type": "stream",
          "text": [
            "[[3, 7, 11, 2, 5, 6], [12, 13, 14, 5, 6, 15], [3, 8, 16, 5, 6], [4, 7, 17, 18, 19, 2, 9], [9, 20, 21, 22, 23], [4, 8, 4, 24, 25, 4, 26, 27, 28], [3, 29, 2, 30, 31], [3, 32, 2, 10, 33, 34], [35, 2, 10, 36]]\n"
          ],
          "name": "stdout"
        }
      ]
    },
    {
      "cell_type": "code",
      "metadata": {
        "id": "h8glX8arBYNH",
        "colab_type": "code",
        "colab": {
          "base_uri": "https://localhost:8080/",
          "height": 292
        },
        "outputId": "a4f43cf5-3511-448c-f144-22943fe2f224"
      },
      "source": [
        "#Later, when you feed the sequences into a neural network to train a model,\n",
        "# the sequences all need to be uniform in size.\n",
        "# make them all be the same size, either by padding them with zeros and/or \n",
        "#truncating them.\n",
        "#f.keras.preprocessing.sequence.pad_sequences to add zeros to the sequences to \n",
        "#make them all be the same length. By default, the padding goes at the start of \n",
        "#the sequences, but you can specify to pad at the end.\n",
        "\n",
        "#You can optionally specify the maximum length to pad the sequences\n",
        "#Sequences that are longer than the specified max length will be truncated\n",
        "#by default from beginning\n",
        "## Make the sequences all the same length\n",
        "#For all the options when padding and truncating sequences, see https://www.tensorflow.org/api_docs/python/tf/keras/preprocessing/sequence/pad_sequences\n",
        "\n",
        "padded = pad_sequences(sequences)\n",
        "print(\"\\nWord Index = \" , word_index)\n",
        "print(\"\\nSequences = \" , sequences)\n",
        "print(\"\\nPadded Sequences:\")\n",
        "print(padded)\n"
      ],
      "execution_count": 6,
      "outputs": [
        {
          "output_type": "stream",
          "text": [
            "\n",
            "Word Index =  {'<OOV>': 1, 'is': 2, 'my': 3, 'your': 4, 'ice': 5, 'cream': 6, 'favorite': 7, 'dog': 8, 'chocolate': 9, 'a': 10, 'food': 11, 'do': 12, 'you': 13, 'like': 14, 'too': 15, 'likes': 16, 'flavor': 17, 'of': 18, 'icecream': 19, \"isn't\": 20, 'good': 21, 'for': 22, 'dogs': 23, 'cat': 24, 'and': 25, 'parrot': 26, 'prefer': 27, 'broccoli': 28, 'mother': 29, 'really': 30, 'religious': 31, 'father': 32, 'clean': 33, 'freak': 34, 'sister': 35, 'supporter': 36}\n",
            "\n",
            "Sequences =  [[3, 7, 11, 2, 5, 6], [12, 13, 14, 5, 6, 15], [3, 8, 16, 5, 6], [4, 7, 17, 18, 19, 2, 9], [9, 20, 21, 22, 23], [4, 8, 4, 24, 25, 4, 26, 27, 28], [3, 29, 2, 30, 31], [3, 32, 2, 10, 33, 34], [35, 2, 10, 36]]\n",
            "\n",
            "Padded Sequences:\n",
            "[[ 0  0  0  3  7 11  2  5  6]\n",
            " [ 0  0  0 12 13 14  5  6 15]\n",
            " [ 0  0  0  0  3  8 16  5  6]\n",
            " [ 0  0  4  7 17 18 19  2  9]\n",
            " [ 0  0  0  0  9 20 21 22 23]\n",
            " [ 4  8  4 24 25  4 26 27 28]\n",
            " [ 0  0  0  0  3 29  2 30 31]\n",
            " [ 0  0  0  3 32  2 10 33 34]\n",
            " [ 0  0  0  0  0 35  2 10 36]]\n"
          ],
          "name": "stdout"
        }
      ]
    },
    {
      "cell_type": "code",
      "metadata": {
        "id": "2C_q6SE4CLig",
        "colab_type": "code",
        "colab": {
          "base_uri": "https://localhost:8080/",
          "height": 170
        },
        "outputId": "596af2bb-2b6a-4fe1-ba92-3cd569d9918f"
      },
      "source": [
        "# Specify a max length for the padded sequences\n",
        "padded = pad_sequences(sequences, maxlen=15)\n",
        "print(padded)"
      ],
      "execution_count": 7,
      "outputs": [
        {
          "output_type": "stream",
          "text": [
            "[[ 0  0  0  0  0  0  0  0  0  3  7 11  2  5  6]\n",
            " [ 0  0  0  0  0  0  0  0  0 12 13 14  5  6 15]\n",
            " [ 0  0  0  0  0  0  0  0  0  0  3  8 16  5  6]\n",
            " [ 0  0  0  0  0  0  0  0  4  7 17 18 19  2  9]\n",
            " [ 0  0  0  0  0  0  0  0  0  0  9 20 21 22 23]\n",
            " [ 0  0  0  0  0  0  4  8  4 24 25  4 26 27 28]\n",
            " [ 0  0  0  0  0  0  0  0  0  0  3 29  2 30 31]\n",
            " [ 0  0  0  0  0  0  0  0  0  3 32  2 10 33 34]\n",
            " [ 0  0  0  0  0  0  0  0  0  0  0 35  2 10 36]]\n"
          ],
          "name": "stdout"
        }
      ]
    },
    {
      "cell_type": "code",
      "metadata": {
        "id": "me8KL8LDCO6w",
        "colab_type": "code",
        "colab": {
          "base_uri": "https://localhost:8080/",
          "height": 170
        },
        "outputId": "847de965-bdc5-4674-91db-1fc66d786531"
      },
      "source": [
        "# Put the padding at the end of the sequences\n",
        "padded = pad_sequences(sequences, maxlen=15, padding=\"post\")\n",
        "print(padded)"
      ],
      "execution_count": 8,
      "outputs": [
        {
          "output_type": "stream",
          "text": [
            "[[ 3  7 11  2  5  6  0  0  0  0  0  0  0  0  0]\n",
            " [12 13 14  5  6 15  0  0  0  0  0  0  0  0  0]\n",
            " [ 3  8 16  5  6  0  0  0  0  0  0  0  0  0  0]\n",
            " [ 4  7 17 18 19  2  9  0  0  0  0  0  0  0  0]\n",
            " [ 9 20 21 22 23  0  0  0  0  0  0  0  0  0  0]\n",
            " [ 4  8  4 24 25  4 26 27 28  0  0  0  0  0  0]\n",
            " [ 3 29  2 30 31  0  0  0  0  0  0  0  0  0  0]\n",
            " [ 3 32  2 10 33 34  0  0  0  0  0  0  0  0  0]\n",
            " [35  2 10 36  0  0  0  0  0  0  0  0  0  0  0]]\n"
          ],
          "name": "stdout"
        }
      ]
    },
    {
      "cell_type": "code",
      "metadata": {
        "id": "eRAp4SGjCQNY",
        "colab_type": "code",
        "colab": {
          "base_uri": "https://localhost:8080/",
          "height": 170
        },
        "outputId": "5f7ad1d7-3355-4621-9468-c83ab2ab03e3"
      },
      "source": [
        "# Limit the length of the sequences, you will see some sequences get truncated\n",
        "padded = pad_sequences(sequences, maxlen=3)\n",
        "print(padded)"
      ],
      "execution_count": 9,
      "outputs": [
        {
          "output_type": "stream",
          "text": [
            "[[ 2  5  6]\n",
            " [ 5  6 15]\n",
            " [16  5  6]\n",
            " [19  2  9]\n",
            " [21 22 23]\n",
            " [26 27 28]\n",
            " [ 2 30 31]\n",
            " [10 33 34]\n",
            " [ 2 10 36]]\n"
          ],
          "name": "stdout"
        }
      ]
    },
    {
      "cell_type": "code",
      "metadata": {
        "id": "YgqatUyiCRiA",
        "colab_type": "code",
        "colab": {
          "base_uri": "https://localhost:8080/",
          "height": 153
        },
        "outputId": "aac56084-679a-4244-e28f-0853b369c551"
      },
      "source": [
        "# Try turning sentences that contain words that \n",
        "# aren't in the word index into sequences.\n",
        "# Add your own sentences to the test_data\n",
        "test_data = [\n",
        "    \"my best friend's favorite ice cream flavor is strawberry\",\n",
        "    \"my dog's best friend is a manatee\"\n",
        "]\n",
        "print (test_data)\n",
        "\n",
        "# Remind ourselves which number corresponds to the\n",
        "# out of vocabulary token in the word index\n",
        "print(\"<OOV> has the number\", word_index['<OOV>'], \"in the word index.\")\n",
        "\n",
        "# Convert the test sentences to sequences\n",
        "test_seq = tokenizer.texts_to_sequences(test_data)\n",
        "print(\"\\nTest Sequence = \", test_seq)\n",
        "\n",
        "# Pad the new sequences\n",
        "padded = pad_sequences(test_seq, maxlen=10)\n",
        "print(\"\\nPadded Test Sequence: \")\n",
        "\n",
        "# Notice that \"1\" appears in the sequence wherever there's a word \n",
        "# that's not in the word index\n",
        "print(padded)"
      ],
      "execution_count": 10,
      "outputs": [
        {
          "output_type": "stream",
          "text": [
            "[\"my best friend's favorite ice cream flavor is strawberry\", \"my dog's best friend is a manatee\"]\n",
            "<OOV> has the number 1 in the word index.\n",
            "\n",
            "Test Sequence =  [[3, 1, 1, 7, 5, 6, 17, 2, 1], [3, 1, 1, 1, 2, 10, 1]]\n",
            "\n",
            "Padded Test Sequence: \n",
            "[[ 0  3  1  1  7  5  6 17  2  1]\n",
            " [ 0  0  0  3  1  1  1  2 10  1]]\n"
          ],
          "name": "stdout"
        }
      ]
    },
    {
      "cell_type": "code",
      "metadata": {
        "id": "VEl5JBjGCTtw",
        "colab_type": "code",
        "colab": {}
      },
      "source": [
        ""
      ],
      "execution_count": null,
      "outputs": []
    }
  ]
}