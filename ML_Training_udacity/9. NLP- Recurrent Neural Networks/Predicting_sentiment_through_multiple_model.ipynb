{
  "nbformat": 4,
  "nbformat_minor": 0,
  "metadata": {
    "colab": {
      "name": "Predicting_sentiment_through_multiple_model.ipynb",
      "provenance": []
    },
    "kernelspec": {
      "name": "python3",
      "display_name": "Python 3"
    },
    "accelerator": "GPU"
  },
  "cells": [
    {
      "cell_type": "code",
      "metadata": {
        "id": "yg426kJlOvlc"
      },
      "source": [
        "import tensorflow as tf\n",
        "import tensorflow_datasets as tfds\n",
        "\n",
        "import numpy as np\n",
        "from tensorflow.keras.preprocessing.text import Tokenizer\n",
        "from tensorflow.keras.preprocessing.sequence import pad_sequences\n",
        "import matplotlib.pyplot as plt"
      ],
      "execution_count": 22,
      "outputs": []
    },
    {
      "cell_type": "code",
      "metadata": {
        "id": "Mbg-8GiwPJ5c",
        "outputId": "0e8b8fcb-a131-4ea8-e6c4-113cb71d50ae",
        "colab": {
          "base_uri": "https://localhost:8080/",
          "height": 136
        }
      },
      "source": [
        "#getting the dataset with 70000 reviews\n",
        "dataset, info = tfds.load('glue/sst2', with_info=True)\n",
        "print(info.features)\n",
        "print(info.features[\"label\"].num_classes)\n",
        "print(info.features[\"label\"].names)"
      ],
      "execution_count": 23,
      "outputs": [
        {
          "output_type": "stream",
          "text": [
            "FeaturesDict({\n",
            "    'idx': tf.int32,\n",
            "    'label': ClassLabel(shape=(), dtype=tf.int64, num_classes=2),\n",
            "    'sentence': Text(shape=(), dtype=tf.string),\n",
            "})\n",
            "2\n",
            "['negative', 'positive']\n"
          ],
          "name": "stdout"
        }
      ]
    },
    {
      "cell_type": "code",
      "metadata": {
        "id": "y25YiAacPTr6",
        "outputId": "d5e5b1bd-d7b6-47e1-c55d-bede77c6dd1e",
        "colab": {
          "base_uri": "https://localhost:8080/",
          "height": 34
        }
      },
      "source": [
        "#getting training and validation dataset\n",
        "dataset_train, dataset_validation = dataset['train'], dataset['validation']\n",
        "dataset_train"
      ],
      "execution_count": 24,
      "outputs": [
        {
          "output_type": "execute_result",
          "data": {
            "text/plain": [
              "<DatasetV1Adapter shapes: {idx: (), label: (), sentence: ()}, types: {idx: tf.int32, label: tf.int64, sentence: tf.string}>"
            ]
          },
          "metadata": {
            "tags": []
          },
          "execution_count": 24
        }
      ]
    },
    {
      "cell_type": "code",
      "metadata": {
        "id": "k9GUcg9pParC",
        "outputId": "ef2bb771-46b0-4045-9e8d-2f02d7de8e71",
        "colab": {
          "base_uri": "https://localhost:8080/",
          "height": 119
        }
      },
      "source": [
        "#printing some entries\n",
        "for example in dataset_train.take(2):  \n",
        "  review, label = example[\"sentence\"], example[\"label\"]\n",
        "  print(\"Review:\", review)\n",
        "  print(\"Label: %d \\n\" % label.numpy())"
      ],
      "execution_count": 25,
      "outputs": [
        {
          "output_type": "stream",
          "text": [
            "Review: tf.Tensor(b'for the uninitiated plays better on video with the sound ', shape=(), dtype=string)\n",
            "Label: 0 \n",
            "\n",
            "Review: tf.Tensor(b'like a giant commercial for universal studios , where much of the action takes place ', shape=(), dtype=string)\n",
            "Label: 0 \n",
            "\n"
          ],
          "name": "stdout"
        }
      ]
    },
    {
      "cell_type": "code",
      "metadata": {
        "id": "TqnS1El0Pesp",
        "outputId": "711f24e6-c91f-4032-f851-7af0975be9a2",
        "colab": {
          "base_uri": "https://localhost:8080/",
          "height": 221
        }
      },
      "source": [
        "# Get the sentences and the labels\n",
        "# for both the training and the validation sets\n",
        "training_reviews = []\n",
        "training_labels = []\n",
        " \n",
        "validation_reviews = []\n",
        "validation_labels = []\n",
        "\n",
        "# The dataset has 67,000 training entries, but that's a lot to process here!\n",
        "\n",
        "# If you want to take the entire dataset: WARNING: takes longer!!\n",
        "# for item in dataset_train.take(-1):\n",
        "\n",
        "# Take 10,000 reviews\n",
        "#for item in dataset_train.take(10000):\n",
        "for item in dataset_train.take(-1):#takinh all the reviews\n",
        "  review, label = item[\"sentence\"], item[\"label\"]\n",
        "  training_reviews.append(str(review.numpy()))\n",
        "  training_labels.append(label.numpy())\n",
        "\n",
        "print (\"\\nNumber of training reviews is: \", len(training_reviews))\n",
        "\n",
        "# print some of the reviews and labels\n",
        "for i in range(0, 2):\n",
        "  print (training_reviews[i])\n",
        "  print (training_labels[i])\n",
        "\n",
        "# Get the validation data\n",
        "# there's only about 800 items, so take them all\n",
        "for item in dataset_validation.take(-1):  \n",
        "  review, label = item[\"sentence\"], item[\"label\"]\n",
        "  validation_reviews.append(str(review.numpy()))\n",
        "  validation_labels.append(label.numpy())\n",
        "\n",
        "print (\"\\nNumber of validation reviews is: \", len(validation_reviews))\n",
        "\n",
        "# Print some of the validation reviews and labels\n",
        "for i in range(0, 2):\n",
        "  print (validation_reviews[i])\n",
        "  print (validation_labels[i])\n"
      ],
      "execution_count": 26,
      "outputs": [
        {
          "output_type": "stream",
          "text": [
            "\n",
            "Number of training reviews is:  67349\n",
            "b'for the uninitiated plays better on video with the sound '\n",
            "0\n",
            "b'like a giant commercial for universal studios , where much of the action takes place '\n",
            "0\n",
            "\n",
            "Number of validation reviews is:  872\n",
            "b'a valueless kiddie paean to pro basketball underwritten by the nba . '\n",
            "0\n",
            "b\"featuring a dangerously seductive performance from the great daniel auteuil , `` sade '' covers the same period as kaufmann 's `` quills '' with more unsettlingly realistic results . \"\n",
            "1\n"
          ],
          "name": "stdout"
        }
      ]
    },
    {
      "cell_type": "code",
      "metadata": {
        "id": "aVTtgohTPj1S"
      },
      "source": [
        "# There's a total of 21224 words in the reviews\n",
        "# but many of them are irrelevant like with, it, of, on.\n",
        "# If we take a subset of the training data, then the vocab\n",
        "# will be smaller.\n",
        "\n",
        "# A reasonable review might have about 50 words or so,\n",
        "# so we can set max_length to 50 (but feel free to change it as you like)\n",
        "\n",
        "vocab_size = 4000\n",
        "embedding_dim = 16\n",
        "max_length = 50\n",
        "trunc_type='post'\n",
        "pad_type='post'\n",
        "oov_tok = \"<OOV>\"\n",
        "\n",
        "\n",
        "\n",
        "tokenizer = Tokenizer(num_words = vocab_size, oov_token=oov_tok)\n",
        "tokenizer.fit_on_texts(training_reviews)\n",
        "word_index = tokenizer.word_index\n"
      ],
      "execution_count": 27,
      "outputs": []
    },
    {
      "cell_type": "code",
      "metadata": {
        "id": "SFIvGfQzPt05"
      },
      "source": [
        "# Pad the sequences so that they are all the same length\n",
        "training_sequences = tokenizer.texts_to_sequences(training_reviews)\n",
        "training_padded = pad_sequences(training_sequences,maxlen=max_length, \n",
        "                                truncating=trunc_type, padding=pad_type)\n",
        "\n",
        "validation_sequences = tokenizer.texts_to_sequences(validation_reviews)\n",
        "validation_padded = pad_sequences(validation_sequences,maxlen=max_length)\n",
        "\n",
        "training_labels_final = np.array(training_labels)\n",
        "validation_labels_final = np.array(validation_labels)"
      ],
      "execution_count": 28,
      "outputs": []
    },
    {
      "cell_type": "code",
      "metadata": {
        "id": "AIZ6oijxPwCJ",
        "outputId": "54f95227-9175-4fea-a0a4-9015315b6b6e",
        "colab": {
          "base_uri": "https://localhost:8080/",
          "height": 255
        }
      },
      "source": [
        "#creating model using embeddings\n",
        "model = tf.keras.Sequential([\n",
        "    tf.keras.layers.Embedding(vocab_size, embedding_dim, input_length=max_length),\n",
        "    tf.keras.layers.GlobalAveragePooling1D(),  \n",
        "    tf.keras.layers.Dense(1, activation='sigmoid')\n",
        "])\n",
        "model.compile(loss='binary_crossentropy',optimizer='adam',metrics=['accuracy'])\n",
        "model.summary()"
      ],
      "execution_count": 29,
      "outputs": [
        {
          "output_type": "stream",
          "text": [
            "Model: \"sequential_5\"\n",
            "_________________________________________________________________\n",
            "Layer (type)                 Output Shape              Param #   \n",
            "=================================================================\n",
            "embedding_5 (Embedding)      (None, 50, 16)            64000     \n",
            "_________________________________________________________________\n",
            "global_average_pooling1d_1 ( (None, 16)                0         \n",
            "_________________________________________________________________\n",
            "dense_5 (Dense)              (None, 1)                 17        \n",
            "=================================================================\n",
            "Total params: 64,017\n",
            "Trainable params: 64,017\n",
            "Non-trainable params: 0\n",
            "_________________________________________________________________\n"
          ],
          "name": "stdout"
        }
      ]
    },
    {
      "cell_type": "code",
      "metadata": {
        "id": "OMhqWuo8P2Ox",
        "outputId": "845ebb26-5357-42af-bdf5-417b68e03e4b",
        "colab": {
          "base_uri": "https://localhost:8080/",
          "height": 697
        }
      },
      "source": [
        "#training the model\n",
        "num_epochs = 20\n",
        "history = model.fit(training_padded, training_labels_final, epochs=num_epochs, \n",
        "                    validation_data=(validation_padded, validation_labels_final))"
      ],
      "execution_count": 30,
      "outputs": [
        {
          "output_type": "stream",
          "text": [
            "Epoch 1/20\n",
            "2105/2105 [==============================] - 7s 3ms/step - loss: 0.6359 - accuracy: 0.6319 - val_loss: 0.5372 - val_accuracy: 0.7534\n",
            "Epoch 2/20\n",
            "2105/2105 [==============================] - 7s 3ms/step - loss: 0.4927 - accuracy: 0.7765 - val_loss: 0.4532 - val_accuracy: 0.8050\n",
            "Epoch 3/20\n",
            "2105/2105 [==============================] - 7s 3ms/step - loss: 0.4114 - accuracy: 0.8166 - val_loss: 0.4554 - val_accuracy: 0.8039\n",
            "Epoch 4/20\n",
            "2105/2105 [==============================] - 6s 3ms/step - loss: 0.3713 - accuracy: 0.8299 - val_loss: 0.4761 - val_accuracy: 0.7947\n",
            "Epoch 5/20\n",
            "2105/2105 [==============================] - 7s 3ms/step - loss: 0.3497 - accuracy: 0.8360 - val_loss: 0.5027 - val_accuracy: 0.7959\n",
            "Epoch 6/20\n",
            "2105/2105 [==============================] - 7s 3ms/step - loss: 0.3358 - accuracy: 0.8400 - val_loss: 0.5282 - val_accuracy: 0.7993\n",
            "Epoch 7/20\n",
            "2105/2105 [==============================] - 7s 3ms/step - loss: 0.3275 - accuracy: 0.8437 - val_loss: 0.5509 - val_accuracy: 0.7924\n",
            "Epoch 8/20\n",
            "2105/2105 [==============================] - 7s 3ms/step - loss: 0.3216 - accuracy: 0.8458 - val_loss: 0.5731 - val_accuracy: 0.7924\n",
            "Epoch 9/20\n",
            "2105/2105 [==============================] - 7s 3ms/step - loss: 0.3173 - accuracy: 0.8477 - val_loss: 0.5908 - val_accuracy: 0.7901\n",
            "Epoch 10/20\n",
            "2105/2105 [==============================] - 7s 3ms/step - loss: 0.3142 - accuracy: 0.8491 - val_loss: 0.6137 - val_accuracy: 0.7878\n",
            "Epoch 11/20\n",
            "2105/2105 [==============================] - 6s 3ms/step - loss: 0.3118 - accuracy: 0.8494 - val_loss: 0.6317 - val_accuracy: 0.7890\n",
            "Epoch 12/20\n",
            "2105/2105 [==============================] - 7s 3ms/step - loss: 0.3101 - accuracy: 0.8498 - val_loss: 0.6429 - val_accuracy: 0.7867\n",
            "Epoch 13/20\n",
            "2105/2105 [==============================] - 7s 3ms/step - loss: 0.3083 - accuracy: 0.8512 - val_loss: 0.6607 - val_accuracy: 0.7821\n",
            "Epoch 14/20\n",
            "2105/2105 [==============================] - 7s 3ms/step - loss: 0.3073 - accuracy: 0.8511 - val_loss: 0.6689 - val_accuracy: 0.7821\n",
            "Epoch 15/20\n",
            "2105/2105 [==============================] - 7s 3ms/step - loss: 0.3061 - accuracy: 0.8527 - val_loss: 0.6830 - val_accuracy: 0.7856\n",
            "Epoch 16/20\n",
            "2105/2105 [==============================] - 7s 3ms/step - loss: 0.3049 - accuracy: 0.8534 - val_loss: 0.6991 - val_accuracy: 0.7821\n",
            "Epoch 17/20\n",
            "2105/2105 [==============================] - 7s 3ms/step - loss: 0.3041 - accuracy: 0.8520 - val_loss: 0.7046 - val_accuracy: 0.7821\n",
            "Epoch 18/20\n",
            "2105/2105 [==============================] - 6s 3ms/step - loss: 0.3038 - accuracy: 0.8536 - val_loss: 0.7187 - val_accuracy: 0.7833\n",
            "Epoch 19/20\n",
            "2105/2105 [==============================] - 7s 3ms/step - loss: 0.3032 - accuracy: 0.8536 - val_loss: 0.7222 - val_accuracy: 0.7844\n",
            "Epoch 20/20\n",
            "2105/2105 [==============================] - 7s 3ms/step - loss: 0.3026 - accuracy: 0.8546 - val_loss: 0.7267 - val_accuracy: 0.7821\n"
          ],
          "name": "stdout"
        }
      ]
    },
    {
      "cell_type": "code",
      "metadata": {
        "id": "xLtD2fQGP6XC",
        "outputId": "4149ccff-000c-4eda-d3ab-16741a57480d",
        "colab": {
          "base_uri": "https://localhost:8080/",
          "height": 541
        }
      },
      "source": [
        "#plotting accuracy and loss\n",
        "def plot_graphs(history, string):\n",
        "  plt.plot(history.history[string])\n",
        "  plt.plot(history.history['val_'+string])\n",
        "  plt.xlabel(\"Epochs\")\n",
        "  plt.ylabel(string)\n",
        "  plt.legend([string, 'val_'+string])\n",
        "  plt.show()\n",
        "  \n",
        "plot_graphs(history, \"accuracy\")\n",
        "plot_graphs(history, \"loss\")"
      ],
      "execution_count": 31,
      "outputs": [
        {
          "output_type": "display_data",
          "data": {
            "image/png": "[encoded data removed]",
            "text/plain": [
              "<Figure size 432x288 with 1 Axes>"
            ]
          },
          "metadata": {
            "tags": [],
            "needs_background": "light"
          }
        },
        {
          "output_type": "display_data",
          "data": {
            "image/png": "[encoded data removed]",
            "text/plain": [
              "<Figure size 432x288 with 1 Axes>"
            ]
          },
          "metadata": {
            "tags": [],
            "needs_background": "light"
          }
        }
      ]
    },
    {
      "cell_type": "code",
      "metadata": {
        "id": "SFks9ZPwQBmy"
      },
      "source": [
        "# Write some new reviews \n",
        "\n",
        "review1 = \"\"\"I loved this movie\"\"\"\n",
        "\n",
        "review2 = \"\"\"that was the worst movie I've ever seen\"\"\"\n",
        "\n",
        "review3 = \"\"\"too much violence even for a Bond film\"\"\"\n",
        "\n",
        "review4 = \"\"\"a captivating recounting of a cherished myth\"\"\"\n",
        "\n",
        "new_reviews = [review1, review2, review3, review4]"
      ],
      "execution_count": 32,
      "outputs": []
    },
    {
      "cell_type": "code",
      "metadata": {
        "id": "YJy6u59IQLYh",
        "outputId": "98f02d34-23b3-4a64-af24-a653d37950f6",
        "colab": {
          "base_uri": "https://localhost:8080/",
          "height": 343
        }
      },
      "source": [
        "# Define a function to prepare the new reviews for use with a model\n",
        "# and then use the model to predict the sentiment of the new reviews           \n",
        "\n",
        "def predict_review(model, reviews):\n",
        "  # Create the sequences\n",
        "  padding_type='post'\n",
        "  sample_sequences = tokenizer.texts_to_sequences(reviews)\n",
        "  reviews_padded = pad_sequences(sample_sequences, padding=padding_type, \n",
        "                                 maxlen=max_length) \n",
        "  classes = model.predict(reviews_padded)\n",
        "  for x in range(len(reviews_padded)):\n",
        "    print(reviews[x])\n",
        "    print(classes[x])\n",
        "    print('\\n')\n",
        "\n",
        "predict_review(model, new_reviews)"
      ],
      "execution_count": 33,
      "outputs": [
        {
          "output_type": "stream",
          "text": [
            "WARNING:tensorflow:6 out of the last 9 calls to <function Model.make_predict_function.<locals>.predict_function at 0x7f1a49aef510> triggered tf.function retracing. Tracing is expensive and the excessive number of tracings could be due to (1) creating @tf.function repeatedly in a loop, (2) passing tensors with different shapes, (3) passing Python objects instead of tensors. For (1), please define your @tf.function outside of the loop. For (2), @tf.function has experimental_relax_shapes=True option that relaxes argument shapes that can avoid unnecessary retracing. For (3), please refer to https://www.tensorflow.org/tutorials/customization/performance#python_or_tensor_args and https://www.tensorflow.org/api_docs/python/tf/function for  more details.\n"
          ],
          "name": "stdout"
        },
        {
          "output_type": "stream",
          "text": [
            "WARNING:tensorflow:6 out of the last 9 calls to <function Model.make_predict_function.<locals>.predict_function at 0x7f1a49aef510> triggered tf.function retracing. Tracing is expensive and the excessive number of tracings could be due to (1) creating @tf.function repeatedly in a loop, (2) passing tensors with different shapes, (3) passing Python objects instead of tensors. For (1), please define your @tf.function outside of the loop. For (2), @tf.function has experimental_relax_shapes=True option that relaxes argument shapes that can avoid unnecessary retracing. For (3), please refer to https://www.tensorflow.org/tutorials/customization/performance#python_or_tensor_args and https://www.tensorflow.org/api_docs/python/tf/function for  more details.\n"
          ],
          "name": "stderr"
        },
        {
          "output_type": "stream",
          "text": [
            "I loved this movie\n",
            "[0.9124177]\n",
            "\n",
            "\n",
            "that was the worst movie I've ever seen\n",
            "[0.0036339]\n",
            "\n",
            "\n",
            "too much violence even for a Bond film\n",
            "[0.02940845]\n",
            "\n",
            "\n",
            "a captivating recounting of a cherished myth\n",
            "[0.8904416]\n",
            "\n",
            "\n"
          ],
          "name": "stdout"
        }
      ]
    },
    {
      "cell_type": "code",
      "metadata": {
        "id": "W2SOSRzeQPNK"
      },
      "source": [
        "#funtion to sho and train models with different layers\n",
        "def fit_model_and_show_results (model, reviews):\n",
        "  model.summary()\n",
        "  history = model.fit(training_padded, training_labels_final, epochs=num_epochs, \n",
        "                      validation_data=(validation_padded, validation_labels_final))\n",
        "  plot_graphs(history, \"accuracy\")\n",
        "  plot_graphs(history, \"loss\")\n",
        "  predict_review(model, reviews)"
      ],
      "execution_count": 34,
      "outputs": []
    },
    {
      "cell_type": "code",
      "metadata": {
        "id": "iAeGQhqVQZb5",
        "outputId": "84f429ce-2f2c-4c25-8e12-656170cb42c6",
        "colab": {
          "base_uri": "https://localhost:8080/",
          "height": 1000
        }
      },
      "source": [
        "#using a CNN\n",
        "\n",
        "num_epochs = 30\n",
        "\n",
        "model_cnn = tf.keras.Sequential([\n",
        "    tf.keras.layers.Embedding(vocab_size, embedding_dim, input_length=max_length),\n",
        "    tf.keras.layers.Conv1D(16, 5, activation='relu'),\n",
        "    tf.keras.layers.GlobalMaxPooling1D(),\n",
        "    tf.keras.layers.Dense(1, activation='sigmoid')\n",
        "])\n",
        "\n",
        "# Default learning rate for the Adam optimizer is 0.001\n",
        "# Let's slow down the learning rate by 10.\n",
        "learning_rate = 0.0001\n",
        "model_cnn.compile(loss='binary_crossentropy',\n",
        "                  optimizer=tf.keras.optimizers.Adam(learning_rate), \n",
        "                  metrics=['accuracy'])\n",
        "\n",
        "fit_model_and_show_results(model_cnn, new_reviews)"
      ],
      "execution_count": 35,
      "outputs": [
        {
          "output_type": "stream",
          "text": [
            "Model: \"sequential_6\"\n",
            "_________________________________________________________________\n",
            "Layer (type)                 Output Shape              Param #   \n",
            "=================================================================\n",
            "embedding_6 (Embedding)      (None, 50, 16)            64000     \n",
            "_________________________________________________________________\n",
            "conv1d_1 (Conv1D)            (None, 46, 16)            1296      \n",
            "_________________________________________________________________\n",
            "global_max_pooling1d_1 (Glob (None, 16)                0         \n",
            "_________________________________________________________________\n",
            "dense_6 (Dense)              (None, 1)                 17        \n",
            "=================================================================\n",
            "Total params: 65,313\n",
            "Trainable params: 65,313\n",
            "Non-trainable params: 0\n",
            "_________________________________________________________________\n",
            "Epoch 1/30\n",
            "2105/2105 [==============================] - 8s 4ms/step - loss: 0.6774 - accuracy: 0.5614 - val_loss: 0.6733 - val_accuracy: 0.6525\n",
            "Epoch 2/30\n",
            "2105/2105 [==============================] - 7s 3ms/step - loss: 0.5879 - accuracy: 0.7192 - val_loss: 0.5402 - val_accuracy: 0.7672\n",
            "Epoch 3/30\n",
            "2105/2105 [==============================] - 7s 3ms/step - loss: 0.4513 - accuracy: 0.8041 - val_loss: 0.4578 - val_accuracy: 0.7936\n",
            "Epoch 4/30\n",
            "2105/2105 [==============================] - 7s 3ms/step - loss: 0.3793 - accuracy: 0.8280 - val_loss: 0.4432 - val_accuracy: 0.7982\n",
            "Epoch 5/30\n",
            "2105/2105 [==============================] - 7s 3ms/step - loss: 0.3439 - accuracy: 0.8404 - val_loss: 0.4519 - val_accuracy: 0.7993\n",
            "Epoch 6/30\n",
            "2105/2105 [==============================] - 7s 3ms/step - loss: 0.3228 - accuracy: 0.8488 - val_loss: 0.4683 - val_accuracy: 0.7970\n",
            "Epoch 7/30\n",
            "2105/2105 [==============================] - 7s 4ms/step - loss: 0.3085 - accuracy: 0.8548 - val_loss: 0.4894 - val_accuracy: 0.7901\n",
            "Epoch 8/30\n",
            "2105/2105 [==============================] - 7s 3ms/step - loss: 0.2976 - accuracy: 0.8605 - val_loss: 0.5097 - val_accuracy: 0.7810\n",
            "Epoch 9/30\n",
            "2105/2105 [==============================] - 7s 3ms/step - loss: 0.2891 - accuracy: 0.8646 - val_loss: 0.5294 - val_accuracy: 0.7741\n",
            "Epoch 10/30\n",
            "2105/2105 [==============================] - 7s 3ms/step - loss: 0.2817 - accuracy: 0.8675 - val_loss: 0.5472 - val_accuracy: 0.7741\n",
            "Epoch 11/30\n",
            "2105/2105 [==============================] - 8s 4ms/step - loss: 0.2751 - accuracy: 0.8705 - val_loss: 0.5676 - val_accuracy: 0.7706\n",
            "Epoch 12/30\n",
            "2105/2105 [==============================] - 8s 4ms/step - loss: 0.2690 - accuracy: 0.8734 - val_loss: 0.5854 - val_accuracy: 0.7718\n",
            "Epoch 13/30\n",
            "2105/2105 [==============================] - 7s 3ms/step - loss: 0.2637 - accuracy: 0.8751 - val_loss: 0.6034 - val_accuracy: 0.7741\n",
            "Epoch 14/30\n",
            "2105/2105 [==============================] - 7s 4ms/step - loss: 0.2587 - accuracy: 0.8772 - val_loss: 0.6195 - val_accuracy: 0.7729\n",
            "Epoch 15/30\n",
            "2105/2105 [==============================] - 7s 3ms/step - loss: 0.2538 - accuracy: 0.8798 - val_loss: 0.6368 - val_accuracy: 0.7741\n",
            "Epoch 16/30\n",
            "2105/2105 [==============================] - 7s 4ms/step - loss: 0.2490 - accuracy: 0.8814 - val_loss: 0.6554 - val_accuracy: 0.7718\n",
            "Epoch 17/30\n",
            "2105/2105 [==============================] - 7s 3ms/step - loss: 0.2448 - accuracy: 0.8842 - val_loss: 0.6713 - val_accuracy: 0.7683\n",
            "Epoch 18/30\n",
            "2105/2105 [==============================] - 7s 3ms/step - loss: 0.2405 - accuracy: 0.8869 - val_loss: 0.6906 - val_accuracy: 0.7695\n",
            "Epoch 19/30\n",
            "2105/2105 [==============================] - 7s 3ms/step - loss: 0.2364 - accuracy: 0.8879 - val_loss: 0.7082 - val_accuracy: 0.7683\n",
            "Epoch 20/30\n",
            "2105/2105 [==============================] - 7s 4ms/step - loss: 0.2324 - accuracy: 0.8904 - val_loss: 0.7260 - val_accuracy: 0.7695\n",
            "Epoch 21/30\n",
            "2105/2105 [==============================] - 7s 4ms/step - loss: 0.2285 - accuracy: 0.8918 - val_loss: 0.7455 - val_accuracy: 0.7695\n",
            "Epoch 22/30\n",
            "2105/2105 [==============================] - 7s 3ms/step - loss: 0.2249 - accuracy: 0.8927 - val_loss: 0.7600 - val_accuracy: 0.7683\n",
            "Epoch 23/30\n",
            "2105/2105 [==============================] - 7s 3ms/step - loss: 0.2212 - accuracy: 0.8945 - val_loss: 0.7775 - val_accuracy: 0.7695\n",
            "Epoch 24/30\n",
            "2105/2105 [==============================] - 7s 4ms/step - loss: 0.2178 - accuracy: 0.8961 - val_loss: 0.7963 - val_accuracy: 0.7706\n",
            "Epoch 25/30\n",
            "2105/2105 [==============================] - 7s 3ms/step - loss: 0.2145 - accuracy: 0.8974 - val_loss: 0.8123 - val_accuracy: 0.7695\n",
            "Epoch 26/30\n",
            "2105/2105 [==============================] - 8s 4ms/step - loss: 0.2112 - accuracy: 0.8989 - val_loss: 0.8303 - val_accuracy: 0.7706\n",
            "Epoch 27/30\n",
            "2105/2105 [==============================] - 8s 4ms/step - loss: 0.2080 - accuracy: 0.9003 - val_loss: 0.8451 - val_accuracy: 0.7729\n",
            "Epoch 28/30\n",
            "2105/2105 [==============================] - 8s 4ms/step - loss: 0.2049 - accuracy: 0.9008 - val_loss: 0.8637 - val_accuracy: 0.7672\n",
            "Epoch 29/30\n",
            "2105/2105 [==============================] - 7s 3ms/step - loss: 0.2020 - accuracy: 0.9018 - val_loss: 0.8792 - val_accuracy: 0.7672\n",
            "Epoch 30/30\n",
            "2105/2105 [==============================] - 7s 3ms/step - loss: 0.1992 - accuracy: 0.9028 - val_loss: 0.8940 - val_accuracy: 0.7649\n"
          ],
          "name": "stdout"
        },
        {
          "output_type": "display_data",
          "data": {
            "image/png": "[encoded data removed]",
            "text/plain": [
              "<Figure size 432x288 with 1 Axes>"
            ]
          },
          "metadata": {
            "tags": [],
            "needs_background": "light"
          }
        },
        {
          "output_type": "display_data",
          "data": {
            "image/png": "[encoded data removed]",
            "text/plain": [
              "<Figure size 432x288 with 1 Axes>"
            ]
          },
          "metadata": {
            "tags": [],
            "needs_background": "light"
          }
        },
        {
          "output_type": "stream",
          "text": [
            "WARNING:tensorflow:7 out of the last 10 calls to <function Model.make_predict_function.<locals>.predict_function at 0x7f1a4980cd08> triggered tf.function retracing. Tracing is expensive and the excessive number of tracings could be due to (1) creating @tf.function repeatedly in a loop, (2) passing tensors with different shapes, (3) passing Python objects instead of tensors. For (1), please define your @tf.function outside of the loop. For (2), @tf.function has experimental_relax_shapes=True option that relaxes argument shapes that can avoid unnecessary retracing. For (3), please refer to https://www.tensorflow.org/tutorials/customization/performance#python_or_tensor_args and https://www.tensorflow.org/api_docs/python/tf/function for  more details.\n"
          ],
          "name": "stdout"
        },
        {
          "output_type": "stream",
          "text": [
            "WARNING:tensorflow:7 out of the last 10 calls to <function Model.make_predict_function.<locals>.predict_function at 0x7f1a4980cd08> triggered tf.function retracing. Tracing is expensive and the excessive number of tracings could be due to (1) creating @tf.function repeatedly in a loop, (2) passing tensors with different shapes, (3) passing Python objects instead of tensors. For (1), please define your @tf.function outside of the loop. For (2), @tf.function has experimental_relax_shapes=True option that relaxes argument shapes that can avoid unnecessary retracing. For (3), please refer to https://www.tensorflow.org/tutorials/customization/performance#python_or_tensor_args and https://www.tensorflow.org/api_docs/python/tf/function for  more details.\n"
          ],
          "name": "stderr"
        },
        {
          "output_type": "stream",
          "text": [
            "I loved this movie\n",
            "[0.99967]\n",
            "\n",
            "\n",
            "that was the worst movie I've ever seen\n",
            "[8.96861e-05]\n",
            "\n",
            "\n",
            "too much violence even for a Bond film\n",
            "[0.05840014]\n",
            "\n",
            "\n",
            "a captivating recounting of a cherished myth\n",
            "[0.97110116]\n",
            "\n",
            "\n"
          ],
          "name": "stdout"
        }
      ]
    },
    {
      "cell_type": "code",
      "metadata": {
        "id": "IpNScfzrQd_h",
        "outputId": "d184e70c-9f5e-43bc-a675-abcd377839c0",
        "colab": {
          "base_uri": "https://localhost:8080/",
          "height": 1000
        }
      },
      "source": [
        "#using a GRU\n",
        "\n",
        "num_epochs = 30\n",
        "\n",
        "model_gru = tf.keras.Sequential([\n",
        "    tf.keras.layers.Embedding(vocab_size, embedding_dim, input_length=max_length),\n",
        "    tf.keras.layers.Bidirectional(tf.keras.layers.GRU(32)),\n",
        "    tf.keras.layers.Dense(1, activation='sigmoid')\n",
        "])\n",
        "\n",
        "learning_rate = 0.00003 # slower than the default learning rate\n",
        "model_gru.compile(loss='binary_crossentropy',\n",
        "                  optimizer=tf.keras.optimizers.Adam(learning_rate),\n",
        "                  metrics=['accuracy'])\n",
        "\n",
        "fit_model_and_show_results(model_gru, new_reviews)"
      ],
      "execution_count": 36,
      "outputs": [
        {
          "output_type": "stream",
          "text": [
            "Model: \"sequential_7\"\n",
            "_________________________________________________________________\n",
            "Layer (type)                 Output Shape              Param #   \n",
            "=================================================================\n",
            "embedding_7 (Embedding)      (None, 50, 16)            64000     \n",
            "_________________________________________________________________\n",
            "bidirectional_4 (Bidirection (None, 64)                9600      \n",
            "_________________________________________________________________\n",
            "dense_7 (Dense)              (None, 1)                 65        \n",
            "=================================================================\n",
            "Total params: 73,665\n",
            "Trainable params: 73,665\n",
            "Non-trainable params: 0\n",
            "_________________________________________________________________\n",
            "Epoch 1/30\n",
            "2105/2105 [==============================] - 16s 8ms/step - loss: 0.6861 - accuracy: 0.5545 - val_loss: 0.6964 - val_accuracy: 0.5092\n",
            "Epoch 2/30\n",
            "2105/2105 [==============================] - 16s 7ms/step - loss: 0.6547 - accuracy: 0.5883 - val_loss: 0.6136 - val_accuracy: 0.5413\n",
            "Epoch 3/30\n",
            "2105/2105 [==============================] - 16s 8ms/step - loss: 0.5535 - accuracy: 0.7142 - val_loss: 0.5790 - val_accuracy: 0.7351\n",
            "Epoch 4/30\n",
            "2105/2105 [==============================] - 16s 8ms/step - loss: 0.4880 - accuracy: 0.7700 - val_loss: 0.5332 - val_accuracy: 0.7661\n",
            "Epoch 5/30\n",
            "2105/2105 [==============================] - 16s 7ms/step - loss: 0.4478 - accuracy: 0.7958 - val_loss: 0.5257 - val_accuracy: 0.7764\n",
            "Epoch 6/30\n",
            "2105/2105 [==============================] - 16s 8ms/step - loss: 0.4199 - accuracy: 0.8128 - val_loss: 0.5484 - val_accuracy: 0.7947\n",
            "Epoch 7/30\n",
            "2105/2105 [==============================] - 16s 8ms/step - loss: 0.3973 - accuracy: 0.8201 - val_loss: 0.5518 - val_accuracy: 0.7867\n",
            "Epoch 8/30\n",
            "2105/2105 [==============================] - 16s 8ms/step - loss: 0.3800 - accuracy: 0.8272 - val_loss: 0.5788 - val_accuracy: 0.7867\n",
            "Epoch 9/30\n",
            "2105/2105 [==============================] - 16s 7ms/step - loss: 0.3652 - accuracy: 0.8329 - val_loss: 0.5666 - val_accuracy: 0.7821\n",
            "Epoch 10/30\n",
            "2105/2105 [==============================] - 16s 7ms/step - loss: 0.3535 - accuracy: 0.8372 - val_loss: 0.5664 - val_accuracy: 0.7706\n",
            "Epoch 11/30\n",
            "2105/2105 [==============================] - 17s 8ms/step - loss: 0.3439 - accuracy: 0.8398 - val_loss: 0.5719 - val_accuracy: 0.7626\n",
            "Epoch 12/30\n",
            "2105/2105 [==============================] - 16s 7ms/step - loss: 0.3367 - accuracy: 0.8421 - val_loss: 0.5966 - val_accuracy: 0.7913\n",
            "Epoch 13/30\n",
            "2105/2105 [==============================] - 16s 8ms/step - loss: 0.3303 - accuracy: 0.8453 - val_loss: 0.6449 - val_accuracy: 0.7615\n",
            "Epoch 14/30\n",
            "2105/2105 [==============================] - 16s 8ms/step - loss: 0.3254 - accuracy: 0.8475 - val_loss: 0.5939 - val_accuracy: 0.7156\n",
            "Epoch 15/30\n",
            "2105/2105 [==============================] - 16s 8ms/step - loss: 0.3212 - accuracy: 0.8489 - val_loss: 0.6657 - val_accuracy: 0.7580\n",
            "Epoch 16/30\n",
            "2105/2105 [==============================] - 16s 7ms/step - loss: 0.3173 - accuracy: 0.8500 - val_loss: 0.6511 - val_accuracy: 0.7913\n",
            "Epoch 17/30\n",
            "2105/2105 [==============================] - 16s 7ms/step - loss: 0.3145 - accuracy: 0.8497 - val_loss: 0.6161 - val_accuracy: 0.7179\n",
            "Epoch 18/30\n",
            "2105/2105 [==============================] - 16s 7ms/step - loss: 0.3114 - accuracy: 0.8517 - val_loss: 0.6416 - val_accuracy: 0.7615\n",
            "Epoch 19/30\n",
            "2105/2105 [==============================] - 16s 7ms/step - loss: 0.3093 - accuracy: 0.8542 - val_loss: 0.6267 - val_accuracy: 0.7259\n",
            "Epoch 20/30\n",
            "2105/2105 [==============================] - 16s 7ms/step - loss: 0.3071 - accuracy: 0.8542 - val_loss: 0.6652 - val_accuracy: 0.7878\n",
            "Epoch 21/30\n",
            "2105/2105 [==============================] - 16s 7ms/step - loss: 0.3051 - accuracy: 0.8552 - val_loss: 0.6473 - val_accuracy: 0.7431\n",
            "Epoch 22/30\n",
            "2105/2105 [==============================] - 16s 7ms/step - loss: 0.3035 - accuracy: 0.8553 - val_loss: 0.6529 - val_accuracy: 0.7466\n",
            "Epoch 23/30\n",
            "2105/2105 [==============================] - 15s 7ms/step - loss: 0.3018 - accuracy: 0.8565 - val_loss: 0.6866 - val_accuracy: 0.7890\n",
            "Epoch 24/30\n",
            "2105/2105 [==============================] - 15s 7ms/step - loss: 0.3005 - accuracy: 0.8562 - val_loss: 0.6898 - val_accuracy: 0.7683\n",
            "Epoch 25/30\n",
            "2105/2105 [==============================] - 15s 7ms/step - loss: 0.2994 - accuracy: 0.8574 - val_loss: 0.6925 - val_accuracy: 0.7856\n",
            "Epoch 26/30\n",
            "2105/2105 [==============================] - 15s 7ms/step - loss: 0.2980 - accuracy: 0.8580 - val_loss: 0.6622 - val_accuracy: 0.7190\n",
            "Epoch 27/30\n",
            "2105/2105 [==============================] - 15s 7ms/step - loss: 0.2968 - accuracy: 0.8586 - val_loss: 0.6803 - val_accuracy: 0.7798\n",
            "Epoch 28/30\n",
            "2105/2105 [==============================] - 15s 7ms/step - loss: 0.2961 - accuracy: 0.8577 - val_loss: 0.6878 - val_accuracy: 0.7236\n",
            "Epoch 29/30\n",
            "2105/2105 [==============================] - 15s 7ms/step - loss: 0.2947 - accuracy: 0.8602 - val_loss: 0.7528 - val_accuracy: 0.6239\n",
            "Epoch 30/30\n",
            "2105/2105 [==============================] - 15s 7ms/step - loss: 0.2943 - accuracy: 0.8587 - val_loss: 0.6772 - val_accuracy: 0.7385\n"
          ],
          "name": "stdout"
        },
        {
          "output_type": "display_data",
          "data": {
            "image/png": "[encoded data removed]",
            "text/plain": [
              "<Figure size 432x288 with 1 Axes>"
            ]
          },
          "metadata": {
            "tags": [],
            "needs_background": "light"
          }
        },
        {
          "output_type": "display_data",
          "data": {
            "image/png": "[encoded data removed]",
            "text/plain": [
              "<Figure size 432x288 with 1 Axes>"
            ]
          },
          "metadata": {
            "tags": [],
            "needs_background": "light"
          }
        },
        {
          "output_type": "stream",
          "text": [
            "WARNING:tensorflow:8 out of the last 11 calls to <function Model.make_predict_function.<locals>.predict_function at 0x7f1ad01c9a60> triggered tf.function retracing. Tracing is expensive and the excessive number of tracings could be due to (1) creating @tf.function repeatedly in a loop, (2) passing tensors with different shapes, (3) passing Python objects instead of tensors. For (1), please define your @tf.function outside of the loop. For (2), @tf.function has experimental_relax_shapes=True option that relaxes argument shapes that can avoid unnecessary retracing. For (3), please refer to https://www.tensorflow.org/tutorials/customization/performance#python_or_tensor_args and https://www.tensorflow.org/api_docs/python/tf/function for  more details.\n"
          ],
          "name": "stdout"
        },
        {
          "output_type": "stream",
          "text": [
            "WARNING:tensorflow:8 out of the last 11 calls to <function Model.make_predict_function.<locals>.predict_function at 0x7f1ad01c9a60> triggered tf.function retracing. Tracing is expensive and the excessive number of tracings could be due to (1) creating @tf.function repeatedly in a loop, (2) passing tensors with different shapes, (3) passing Python objects instead of tensors. For (1), please define your @tf.function outside of the loop. For (2), @tf.function has experimental_relax_shapes=True option that relaxes argument shapes that can avoid unnecessary retracing. For (3), please refer to https://www.tensorflow.org/tutorials/customization/performance#python_or_tensor_args and https://www.tensorflow.org/api_docs/python/tf/function for  more details.\n"
          ],
          "name": "stderr"
        },
        {
          "output_type": "stream",
          "text": [
            "I loved this movie\n",
            "[0.9230392]\n",
            "\n",
            "\n",
            "that was the worst movie I've ever seen\n",
            "[0.00461604]\n",
            "\n",
            "\n",
            "too much violence even for a Bond film\n",
            "[0.02406925]\n",
            "\n",
            "\n",
            "a captivating recounting of a cherished myth\n",
            "[0.8125193]\n",
            "\n",
            "\n"
          ],
          "name": "stdout"
        }
      ]
    },
    {
      "cell_type": "code",
      "metadata": {
        "id": "lmvOx3s-QjQM",
        "outputId": "03160097-61fa-4bf3-807b-65566f277b1e",
        "colab": {
          "base_uri": "https://localhost:8080/",
          "height": 1000
        }
      },
      "source": [
        "#using a bidirectional LSTM\n",
        "num_epochs = 30\n",
        "\n",
        "model_bidi_lstm = tf.keras.Sequential([\n",
        "    tf.keras.layers.Embedding(vocab_size, embedding_dim, input_length=max_length),\n",
        "    tf.keras.layers.Bidirectional(tf.keras.layers.LSTM(embedding_dim)), \n",
        "    tf.keras.layers.Dense(1, activation='sigmoid')\n",
        "])\n",
        "\n",
        "learning_rate = 0.00003\n",
        "model_bidi_lstm.compile(loss='binary_crossentropy',\n",
        "                        optimizer=tf.keras.optimizers.Adam(learning_rate),\n",
        "                        metrics=['accuracy'])\n",
        "fit_model_and_show_results(model_bidi_lstm, new_reviews)"
      ],
      "execution_count": 37,
      "outputs": [
        {
          "output_type": "stream",
          "text": [
            "Model: \"sequential_8\"\n",
            "_________________________________________________________________\n",
            "Layer (type)                 Output Shape              Param #   \n",
            "=================================================================\n",
            "embedding_8 (Embedding)      (None, 50, 16)            64000     \n",
            "_________________________________________________________________\n",
            "bidirectional_5 (Bidirection (None, 32)                4224      \n",
            "_________________________________________________________________\n",
            "dense_8 (Dense)              (None, 1)                 33        \n",
            "=================================================================\n",
            "Total params: 68,257\n",
            "Trainable params: 68,257\n",
            "Non-trainable params: 0\n",
            "_________________________________________________________________\n",
            "Epoch 1/30\n",
            "2105/2105 [==============================] - 17s 8ms/step - loss: 0.6858 - accuracy: 0.5569 - val_loss: 0.6975 - val_accuracy: 0.5092\n",
            "Epoch 2/30\n",
            "2105/2105 [==============================] - 16s 8ms/step - loss: 0.6694 - accuracy: 0.5695 - val_loss: 0.7114 - val_accuracy: 0.5092\n",
            "Epoch 3/30\n",
            "2105/2105 [==============================] - 16s 8ms/step - loss: 0.6177 - accuracy: 0.6459 - val_loss: 0.6302 - val_accuracy: 0.5516\n",
            "Epoch 4/30\n",
            "2105/2105 [==============================] - 16s 8ms/step - loss: 0.5417 - accuracy: 0.7272 - val_loss: 0.5925 - val_accuracy: 0.6158\n",
            "Epoch 5/30\n",
            "2105/2105 [==============================] - 16s 8ms/step - loss: 0.4983 - accuracy: 0.7656 - val_loss: 0.5729 - val_accuracy: 0.6606\n",
            "Epoch 6/30\n",
            "2105/2105 [==============================] - 16s 8ms/step - loss: 0.4669 - accuracy: 0.7889 - val_loss: 0.5687 - val_accuracy: 0.6743\n",
            "Epoch 7/30\n",
            "2105/2105 [==============================] - 16s 8ms/step - loss: 0.4416 - accuracy: 0.8031 - val_loss: 0.5877 - val_accuracy: 0.6812\n",
            "Epoch 8/30\n",
            "2105/2105 [==============================] - 16s 8ms/step - loss: 0.4209 - accuracy: 0.8127 - val_loss: 0.5905 - val_accuracy: 0.6869\n",
            "Epoch 9/30\n",
            "2105/2105 [==============================] - 16s 8ms/step - loss: 0.4035 - accuracy: 0.8204 - val_loss: 0.5927 - val_accuracy: 0.7087\n",
            "Epoch 10/30\n",
            "2105/2105 [==============================] - 16s 8ms/step - loss: 0.3884 - accuracy: 0.8269 - val_loss: 0.6243 - val_accuracy: 0.6697\n",
            "Epoch 11/30\n",
            "2105/2105 [==============================] - 16s 8ms/step - loss: 0.3755 - accuracy: 0.8329 - val_loss: 0.5745 - val_accuracy: 0.6892\n",
            "Epoch 12/30\n",
            "2105/2105 [==============================] - 16s 8ms/step - loss: 0.3645 - accuracy: 0.8365 - val_loss: 0.5784 - val_accuracy: 0.7167\n",
            "Epoch 13/30\n",
            "2105/2105 [==============================] - 16s 8ms/step - loss: 0.3550 - accuracy: 0.8404 - val_loss: 0.6075 - val_accuracy: 0.6915\n",
            "Epoch 14/30\n",
            "2105/2105 [==============================] - 16s 8ms/step - loss: 0.3411 - accuracy: 0.8443 - val_loss: 0.5924 - val_accuracy: 0.6537\n",
            "Epoch 15/30\n",
            "2105/2105 [==============================] - 16s 8ms/step - loss: 0.3300 - accuracy: 0.8446 - val_loss: 0.6289 - val_accuracy: 0.6307\n",
            "Epoch 16/30\n",
            "2105/2105 [==============================] - 16s 7ms/step - loss: 0.3241 - accuracy: 0.8487 - val_loss: 0.6222 - val_accuracy: 0.6353\n",
            "Epoch 17/30\n",
            "2105/2105 [==============================] - 16s 8ms/step - loss: 0.3193 - accuracy: 0.8511 - val_loss: 0.5948 - val_accuracy: 0.6560\n",
            "Epoch 18/30\n",
            "2105/2105 [==============================] - 16s 8ms/step - loss: 0.3157 - accuracy: 0.8525 - val_loss: 0.6026 - val_accuracy: 0.6479\n",
            "Epoch 19/30\n",
            "2105/2105 [==============================] - 16s 8ms/step - loss: 0.3119 - accuracy: 0.8542 - val_loss: 0.6045 - val_accuracy: 0.6468\n",
            "Epoch 20/30\n",
            "2105/2105 [==============================] - 16s 8ms/step - loss: 0.3085 - accuracy: 0.8566 - val_loss: 0.6023 - val_accuracy: 0.6525\n",
            "Epoch 21/30\n",
            "2105/2105 [==============================] - 16s 7ms/step - loss: 0.3054 - accuracy: 0.8586 - val_loss: 0.5976 - val_accuracy: 0.6674\n",
            "Epoch 22/30\n",
            "2105/2105 [==============================] - 16s 8ms/step - loss: 0.3026 - accuracy: 0.8601 - val_loss: 0.5700 - val_accuracy: 0.7110\n",
            "Epoch 23/30\n",
            "2105/2105 [==============================] - 16s 8ms/step - loss: 0.3002 - accuracy: 0.8610 - val_loss: 0.6026 - val_accuracy: 0.6755\n",
            "Epoch 24/30\n",
            "2105/2105 [==============================] - 16s 8ms/step - loss: 0.2978 - accuracy: 0.8622 - val_loss: 0.6151 - val_accuracy: 0.6640\n",
            "Epoch 25/30\n",
            "2105/2105 [==============================] - 16s 8ms/step - loss: 0.2954 - accuracy: 0.8638 - val_loss: 0.5930 - val_accuracy: 0.6858\n",
            "Epoch 26/30\n",
            "2105/2105 [==============================] - 16s 8ms/step - loss: 0.2935 - accuracy: 0.8634 - val_loss: 0.6325 - val_accuracy: 0.6365\n",
            "Epoch 27/30\n",
            "2105/2105 [==============================] - 16s 8ms/step - loss: 0.2915 - accuracy: 0.8655 - val_loss: 0.6777 - val_accuracy: 0.6181\n",
            "Epoch 28/30\n",
            "2105/2105 [==============================] - 16s 7ms/step - loss: 0.2897 - accuracy: 0.8658 - val_loss: 0.6072 - val_accuracy: 0.6858\n",
            "Epoch 29/30\n",
            "2105/2105 [==============================] - 16s 7ms/step - loss: 0.2883 - accuracy: 0.8666 - val_loss: 0.6087 - val_accuracy: 0.6961\n",
            "Epoch 30/30\n",
            "2105/2105 [==============================] - 16s 8ms/step - loss: 0.2863 - accuracy: 0.8676 - val_loss: 0.6365 - val_accuracy: 0.6892\n"
          ],
          "name": "stdout"
        },
        {
          "output_type": "display_data",
          "data": {
            "image/png": "[encoded data removed]",
            "text/plain": [
              "<Figure size 432x288 with 1 Axes>"
            ]
          },
          "metadata": {
            "tags": [],
            "needs_background": "light"
          }
        },
        {
          "output_type": "display_data",
          "data": {
            "image/png": "[encoded data removed]",
            "text/plain": [
              "<Figure size 432x288 with 1 Axes>"
            ]
          },
          "metadata": {
            "tags": [],
            "needs_background": "light"
          }
        },
        {
          "output_type": "stream",
          "text": [
            "WARNING:tensorflow:8 out of the last 11 calls to <function Model.make_predict_function.<locals>.predict_function at 0x7f1a6f093950> triggered tf.function retracing. Tracing is expensive and the excessive number of tracings could be due to (1) creating @tf.function repeatedly in a loop, (2) passing tensors with different shapes, (3) passing Python objects instead of tensors. For (1), please define your @tf.function outside of the loop. For (2), @tf.function has experimental_relax_shapes=True option that relaxes argument shapes that can avoid unnecessary retracing. For (3), please refer to https://www.tensorflow.org/tutorials/customization/performance#python_or_tensor_args and https://www.tensorflow.org/api_docs/python/tf/function for  more details.\n"
          ],
          "name": "stdout"
        },
        {
          "output_type": "stream",
          "text": [
            "WARNING:tensorflow:8 out of the last 11 calls to <function Model.make_predict_function.<locals>.predict_function at 0x7f1a6f093950> triggered tf.function retracing. Tracing is expensive and the excessive number of tracings could be due to (1) creating @tf.function repeatedly in a loop, (2) passing tensors with different shapes, (3) passing Python objects instead of tensors. For (1), please define your @tf.function outside of the loop. For (2), @tf.function has experimental_relax_shapes=True option that relaxes argument shapes that can avoid unnecessary retracing. For (3), please refer to https://www.tensorflow.org/tutorials/customization/performance#python_or_tensor_args and https://www.tensorflow.org/api_docs/python/tf/function for  more details.\n"
          ],
          "name": "stderr"
        },
        {
          "output_type": "stream",
          "text": [
            "I loved this movie\n",
            "[0.94683695]\n",
            "\n",
            "\n",
            "that was the worst movie I've ever seen\n",
            "[0.02159452]\n",
            "\n",
            "\n",
            "too much violence even for a Bond film\n",
            "[0.17459436]\n",
            "\n",
            "\n",
            "a captivating recounting of a cherished myth\n",
            "[0.8439638]\n",
            "\n",
            "\n"
          ],
          "name": "stdout"
        }
      ]
    },
    {
      "cell_type": "code",
      "metadata": {
        "id": "8AHmt1YpQnwB",
        "outputId": "e8a2a035-1d64-4d94-ded1-6f6032074167",
        "colab": {
          "base_uri": "https://localhost:8080/",
          "height": 1000
        }
      },
      "source": [
        "#using multilayered bidirectional LSTM\n",
        "num_epochs = 30\n",
        "\n",
        "model_multiple_bidi_lstm = tf.keras.Sequential([\n",
        "    tf.keras.layers.Embedding(vocab_size, embedding_dim, input_length=max_length),\n",
        "    tf.keras.layers.Bidirectional(tf.keras.layers.LSTM(embedding_dim, \n",
        "                                                       return_sequences=True)),\n",
        "    tf.keras.layers.Bidirectional(tf.keras.layers.LSTM(embedding_dim)),\n",
        "    tf.keras.layers.Dense(1, activation='sigmoid')\n",
        "])\n",
        "\n",
        "learning_rate = 0.0003\n",
        "model_multiple_bidi_lstm.compile(loss='binary_crossentropy',\n",
        "                                 optimizer=tf.keras.optimizers.Adam(learning_rate),\n",
        "                                 metrics=['accuracy'])\n",
        "fit_model_and_show_results(model_multiple_bidi_lstm, new_reviews)"
      ],
      "execution_count": 38,
      "outputs": [
        {
          "output_type": "stream",
          "text": [
            "Model: \"sequential_9\"\n",
            "_________________________________________________________________\n",
            "Layer (type)                 Output Shape              Param #   \n",
            "=================================================================\n",
            "embedding_9 (Embedding)      (None, 50, 16)            64000     \n",
            "_________________________________________________________________\n",
            "bidirectional_6 (Bidirection (None, 50, 32)            4224      \n",
            "_________________________________________________________________\n",
            "bidirectional_7 (Bidirection (None, 32)                6272      \n",
            "_________________________________________________________________\n",
            "dense_9 (Dense)              (None, 1)                 33        \n",
            "=================================================================\n",
            "Total params: 74,529\n",
            "Trainable params: 74,529\n",
            "Non-trainable params: 0\n",
            "_________________________________________________________________\n",
            "Epoch 1/30\n",
            "2105/2105 [==============================] - 27s 13ms/step - loss: 0.4705 - accuracy: 0.7555 - val_loss: 0.6614 - val_accuracy: 0.5780\n",
            "Epoch 2/30\n",
            "2105/2105 [==============================] - 25s 12ms/step - loss: 0.3486 - accuracy: 0.8347 - val_loss: 0.7511 - val_accuracy: 0.5172\n",
            "Epoch 3/30\n",
            "2105/2105 [==============================] - 26s 12ms/step - loss: 0.3304 - accuracy: 0.8418 - val_loss: 0.6771 - val_accuracy: 0.5321\n",
            "Epoch 4/30\n",
            "2105/2105 [==============================] - 26s 12ms/step - loss: 0.3205 - accuracy: 0.8461 - val_loss: 0.7292 - val_accuracy: 0.5195\n",
            "Epoch 5/30\n",
            "2105/2105 [==============================] - 26s 12ms/step - loss: 0.3099 - accuracy: 0.8498 - val_loss: 0.7355 - val_accuracy: 0.5172\n",
            "Epoch 6/30\n",
            "2105/2105 [==============================] - 26s 12ms/step - loss: 0.3006 - accuracy: 0.8524 - val_loss: 0.7526 - val_accuracy: 0.5138\n",
            "Epoch 7/30\n",
            "2105/2105 [==============================] - 25s 12ms/step - loss: 0.2913 - accuracy: 0.8561 - val_loss: 0.8163 - val_accuracy: 0.5126\n",
            "Epoch 8/30\n",
            "2105/2105 [==============================] - 25s 12ms/step - loss: 0.2831 - accuracy: 0.8578 - val_loss: 0.8458 - val_accuracy: 0.5218\n",
            "Epoch 9/30\n",
            "2105/2105 [==============================] - 25s 12ms/step - loss: 0.2722 - accuracy: 0.8609 - val_loss: 0.8576 - val_accuracy: 0.5631\n",
            "Epoch 10/30\n",
            "2105/2105 [==============================] - 25s 12ms/step - loss: 0.2624 - accuracy: 0.8660 - val_loss: 0.7856 - val_accuracy: 0.5952\n",
            "Epoch 11/30\n",
            "2105/2105 [==============================] - 25s 12ms/step - loss: 0.2544 - accuracy: 0.8675 - val_loss: 0.7348 - val_accuracy: 0.6239\n",
            "Epoch 12/30\n",
            "2105/2105 [==============================] - 25s 12ms/step - loss: 0.2458 - accuracy: 0.8696 - val_loss: 1.0140 - val_accuracy: 0.6353\n",
            "Epoch 13/30\n",
            "2105/2105 [==============================] - 25s 12ms/step - loss: 0.2394 - accuracy: 0.8724 - val_loss: 1.0014 - val_accuracy: 0.6273\n",
            "Epoch 14/30\n",
            "2105/2105 [==============================] - 25s 12ms/step - loss: 0.2319 - accuracy: 0.8757 - val_loss: 0.8895 - val_accuracy: 0.6399\n",
            "Epoch 15/30\n",
            "2105/2105 [==============================] - 25s 12ms/step - loss: 0.2268 - accuracy: 0.8786 - val_loss: 0.9375 - val_accuracy: 0.6388\n",
            "Epoch 16/30\n",
            "2105/2105 [==============================] - 25s 12ms/step - loss: 0.2218 - accuracy: 0.8811 - val_loss: 1.0689 - val_accuracy: 0.6342\n",
            "Epoch 17/30\n",
            "2105/2105 [==============================] - 26s 12ms/step - loss: 0.2165 - accuracy: 0.8842 - val_loss: 0.8702 - val_accuracy: 0.6376\n",
            "Epoch 18/30\n",
            "2105/2105 [==============================] - 26s 12ms/step - loss: 0.2107 - accuracy: 0.8857 - val_loss: 0.9116 - val_accuracy: 0.6365\n",
            "Epoch 19/30\n",
            "2105/2105 [==============================] - 25s 12ms/step - loss: 0.2065 - accuracy: 0.8870 - val_loss: 1.2170 - val_accuracy: 0.6261\n",
            "Epoch 20/30\n",
            "2105/2105 [==============================] - 25s 12ms/step - loss: 0.2014 - accuracy: 0.8903 - val_loss: 1.1019 - val_accuracy: 0.6342\n",
            "Epoch 21/30\n",
            "2105/2105 [==============================] - 25s 12ms/step - loss: 0.1979 - accuracy: 0.8913 - val_loss: 1.0796 - val_accuracy: 0.6319\n",
            "Epoch 22/30\n",
            "2105/2105 [==============================] - 25s 12ms/step - loss: 0.1951 - accuracy: 0.8929 - val_loss: 1.4315 - val_accuracy: 0.6273\n",
            "Epoch 23/30\n",
            "2105/2105 [==============================] - 25s 12ms/step - loss: 0.1907 - accuracy: 0.8952 - val_loss: 1.4721 - val_accuracy: 0.6078\n",
            "Epoch 24/30\n",
            "2105/2105 [==============================] - 25s 12ms/step - loss: 0.1871 - accuracy: 0.8975 - val_loss: 1.3459 - val_accuracy: 0.6101\n",
            "Epoch 25/30\n",
            "2105/2105 [==============================] - 25s 12ms/step - loss: 0.1861 - accuracy: 0.8979 - val_loss: 1.3455 - val_accuracy: 0.6227\n",
            "Epoch 26/30\n",
            "2105/2105 [==============================] - 25s 12ms/step - loss: 0.1802 - accuracy: 0.9005 - val_loss: 1.4991 - val_accuracy: 0.5940\n",
            "Epoch 27/30\n",
            "2105/2105 [==============================] - 25s 12ms/step - loss: 0.1779 - accuracy: 0.9033 - val_loss: 1.5590 - val_accuracy: 0.5929\n",
            "Epoch 28/30\n",
            "2105/2105 [==============================] - 25s 12ms/step - loss: 0.1752 - accuracy: 0.9043 - val_loss: 1.2425 - val_accuracy: 0.6089\n",
            "Epoch 29/30\n",
            "2105/2105 [==============================] - 25s 12ms/step - loss: 0.1722 - accuracy: 0.9067 - val_loss: 1.4524 - val_accuracy: 0.6089\n",
            "Epoch 30/30\n",
            "2105/2105 [==============================] - 26s 12ms/step - loss: 0.1705 - accuracy: 0.9069 - val_loss: 1.4147 - val_accuracy: 0.6078\n"
          ],
          "name": "stdout"
        },
        {
          "output_type": "display_data",
          "data": {
            "image/png": "[encoded data removed]",
            "text/plain": [
              "<Figure size 432x288 with 1 Axes>"
            ]
          },
          "metadata": {
            "tags": [],
            "needs_background": "light"
          }
        },
        {
          "output_type": "display_data",
          "data": {
            "image/png": "[encoded data removed]",
            "text/plain": [
              "<Figure size 432x288 with 1 Axes>"
            ]
          },
          "metadata": {
            "tags": [],
            "needs_background": "light"
          }
        },
        {
          "output_type": "stream",
          "text": [
            "WARNING:tensorflow:8 out of the last 11 calls to <function Model.make_predict_function.<locals>.predict_function at 0x7f1a6e872ea0> triggered tf.function retracing. Tracing is expensive and the excessive number of tracings could be due to (1) creating @tf.function repeatedly in a loop, (2) passing tensors with different shapes, (3) passing Python objects instead of tensors. For (1), please define your @tf.function outside of the loop. For (2), @tf.function has experimental_relax_shapes=True option that relaxes argument shapes that can avoid unnecessary retracing. For (3), please refer to https://www.tensorflow.org/tutorials/customization/performance#python_or_tensor_args and https://www.tensorflow.org/api_docs/python/tf/function for  more details.\n"
          ],
          "name": "stdout"
        },
        {
          "output_type": "stream",
          "text": [
            "WARNING:tensorflow:8 out of the last 11 calls to <function Model.make_predict_function.<locals>.predict_function at 0x7f1a6e872ea0> triggered tf.function retracing. Tracing is expensive and the excessive number of tracings could be due to (1) creating @tf.function repeatedly in a loop, (2) passing tensors with different shapes, (3) passing Python objects instead of tensors. For (1), please define your @tf.function outside of the loop. For (2), @tf.function has experimental_relax_shapes=True option that relaxes argument shapes that can avoid unnecessary retracing. For (3), please refer to https://www.tensorflow.org/tutorials/customization/performance#python_or_tensor_args and https://www.tensorflow.org/api_docs/python/tf/function for  more details.\n"
          ],
          "name": "stderr"
        },
        {
          "output_type": "stream",
          "text": [
            "I loved this movie\n",
            "[0.9995473]\n",
            "\n",
            "\n",
            "that was the worst movie I've ever seen\n",
            "[0.00634488]\n",
            "\n",
            "\n",
            "too much violence even for a Bond film\n",
            "[0.05214637]\n",
            "\n",
            "\n",
            "a captivating recounting of a cherished myth\n",
            "[0.99620444]\n",
            "\n",
            "\n"
          ],
          "name": "stdout"
        }
      ]
    },
    {
      "cell_type": "code",
      "metadata": {
        "id": "knHrUDaDQsn5"
      },
      "source": [
        "# Write some new reviews \n",
        "\n",
        "review1 = \"\"\"I loved this movie\"\"\"\n",
        "\n",
        "review2 = \"\"\"that was the worst movie I've ever seen\"\"\"\n",
        "\n",
        "review3 = \"\"\"too much violence even for a Bond film\"\"\"\n",
        "\n",
        "review4 = \"\"\"a captivating recounting of a cherished myth\"\"\"\n",
        "\n",
        "review5 = \"\"\"I saw this movie yesterday and I was feeling low to start with,\n",
        " but it was such a wonderful movie that it lifted my spirits and brightened \n",
        " my day, you can\\'t go wrong with a movie with Whoopi Goldberg in it.\"\"\"\n",
        "\n",
        "review6 = \"\"\"I don\\'t understand why it received an oscar recommendation\n",
        " for best movie, it was long and boring\"\"\"\n",
        "\n",
        "review7 = \"\"\"the scenery was magnificent, the CGI of the dogs was so realistic I\n",
        " thought they were played by real dogs even though they talked!\"\"\"\n",
        "\n",
        "review8 = \"\"\"The ending was so sad and yet so uplifting at the same time. \n",
        " I'm looking for an excuse to see it again\"\"\"\n",
        "\n",
        "review9 = \"\"\"I had expected so much more from a movie made by the director \n",
        " who made my most favorite movie ever, I was very disappointed in the tedious \n",
        " story\"\"\"\n",
        "\n",
        "review10 = \"I wish I could watch this movie every day for the rest of my life\"\n",
        "\n",
        "more_reviews = [review1, review2, review3, review4, review5, review6, review7, \n",
        "               review8, review9, review10]"
      ],
      "execution_count": 39,
      "outputs": []
    },
    {
      "cell_type": "code",
      "metadata": {
        "id": "Fy16Fu7wQulh",
        "outputId": "0be00961-1d65-417a-ca89-45cee57a93b6",
        "colab": {
          "base_uri": "https://localhost:8080/",
          "height": 867
        }
      },
      "source": [
        "print(\"============================\\n\",\"Embeddings only:\\n\", \"============================\")\n",
        "predict_review(model, more_reviews)"
      ],
      "execution_count": 40,
      "outputs": [
        {
          "output_type": "stream",
          "text": [
            "============================\n",
            " Embeddings only:\n",
            " ============================\n",
            "I loved this movie\n",
            "[0.9124177]\n",
            "\n",
            "\n",
            "that was the worst movie I've ever seen\n",
            "[0.0036339]\n",
            "\n",
            "\n",
            "too much violence even for a Bond film\n",
            "[0.02940845]\n",
            "\n",
            "\n",
            "a captivating recounting of a cherished myth\n",
            "[0.8904416]\n",
            "\n",
            "\n",
            "I saw this movie yesterday and I was feeling low to start with,\n",
            " but it was such a wonderful movie that it lifted my spirits and brightened \n",
            " my day, you can't go wrong with a movie with Whoopi Goldberg in it.\n",
            "[0.9681807]\n",
            "\n",
            "\n",
            "I don't understand why it received an oscar recommendation\n",
            " for best movie, it was long and boring\n",
            "[0.9943733]\n",
            "\n",
            "\n",
            "the scenery was magnificent, the CGI of the dogs was so realistic I\n",
            " thought they were played by real dogs even though they talked!\n",
            "[0.36685795]\n",
            "\n",
            "\n",
            "The ending was so sad and yet so uplifting at the same time. \n",
            " I'm looking for an excuse to see it again\n",
            "[0.6434477]\n",
            "\n",
            "\n",
            "I had expected so much more from a movie made by the director \n",
            " who made my most favorite movie ever, I was very disappointed in the tedious \n",
            " story\n",
            "[0.00019122]\n",
            "\n",
            "\n",
            "I wish I could watch this movie every day for the rest of my life\n",
            "[0.24212767]\n",
            "\n",
            "\n"
          ],
          "name": "stdout"
        }
      ]
    },
    {
      "cell_type": "code",
      "metadata": {
        "id": "PVT8QY9BQy-v",
        "outputId": "fc706683-222f-4138-9db7-1031601ed171",
        "colab": {
          "base_uri": "https://localhost:8080/",
          "height": 867
        }
      },
      "source": [
        "print(\"============================\\n\",\"With CNN\\n\", \"============================\")\n",
        "predict_review(model_cnn, more_reviews)"
      ],
      "execution_count": 41,
      "outputs": [
        {
          "output_type": "stream",
          "text": [
            "============================\n",
            " With CNN\n",
            " ============================\n",
            "I loved this movie\n",
            "[0.99967]\n",
            "\n",
            "\n",
            "that was the worst movie I've ever seen\n",
            "[8.96861e-05]\n",
            "\n",
            "\n",
            "too much violence even for a Bond film\n",
            "[0.05840014]\n",
            "\n",
            "\n",
            "a captivating recounting of a cherished myth\n",
            "[0.97110116]\n",
            "\n",
            "\n",
            "I saw this movie yesterday and I was feeling low to start with,\n",
            " but it was such a wonderful movie that it lifted my spirits and brightened \n",
            " my day, you can't go wrong with a movie with Whoopi Goldberg in it.\n",
            "[0.82681304]\n",
            "\n",
            "\n",
            "I don't understand why it received an oscar recommendation\n",
            " for best movie, it was long and boring\n",
            "[0.99998]\n",
            "\n",
            "\n",
            "the scenery was magnificent, the CGI of the dogs was so realistic I\n",
            " thought they were played by real dogs even though they talked!\n",
            "[0.436878]\n",
            "\n",
            "\n",
            "The ending was so sad and yet so uplifting at the same time. \n",
            " I'm looking for an excuse to see it again\n",
            "[0.9999496]\n",
            "\n",
            "\n",
            "I had expected so much more from a movie made by the director \n",
            " who made my most favorite movie ever, I was very disappointed in the tedious \n",
            " story\n",
            "[0.0603903]\n",
            "\n",
            "\n",
            "I wish I could watch this movie every day for the rest of my life\n",
            "[0.2150998]\n",
            "\n",
            "\n"
          ],
          "name": "stdout"
        }
      ]
    },
    {
      "cell_type": "code",
      "metadata": {
        "id": "J2w_NURpQznZ",
        "outputId": "0bead97e-aaf6-410f-ac5a-61513768dccc",
        "colab": {
          "base_uri": "https://localhost:8080/",
          "height": 867
        }
      },
      "source": [
        "print(\"===========================\\n\",\"With bidirectional GRU\\n\", \"============================\")\n",
        "predict_review(model_gru, more_reviews)"
      ],
      "execution_count": 42,
      "outputs": [
        {
          "output_type": "stream",
          "text": [
            "===========================\n",
            " With bidirectional GRU\n",
            " ============================\n",
            "I loved this movie\n",
            "[0.9230392]\n",
            "\n",
            "\n",
            "that was the worst movie I've ever seen\n",
            "[0.00461604]\n",
            "\n",
            "\n",
            "too much violence even for a Bond film\n",
            "[0.02406925]\n",
            "\n",
            "\n",
            "a captivating recounting of a cherished myth\n",
            "[0.8125193]\n",
            "\n",
            "\n",
            "I saw this movie yesterday and I was feeling low to start with,\n",
            " but it was such a wonderful movie that it lifted my spirits and brightened \n",
            " my day, you can't go wrong with a movie with Whoopi Goldberg in it.\n",
            "[0.70491064]\n",
            "\n",
            "\n",
            "I don't understand why it received an oscar recommendation\n",
            " for best movie, it was long and boring\n",
            "[0.8761394]\n",
            "\n",
            "\n",
            "the scenery was magnificent, the CGI of the dogs was so realistic I\n",
            " thought they were played by real dogs even though they talked!\n",
            "[0.07618985]\n",
            "\n",
            "\n",
            "The ending was so sad and yet so uplifting at the same time. \n",
            " I'm looking for an excuse to see it again\n",
            "[0.0999966]\n",
            "\n",
            "\n",
            "I had expected so much more from a movie made by the director \n",
            " who made my most favorite movie ever, I was very disappointed in the tedious \n",
            " story\n",
            "[0.08337244]\n",
            "\n",
            "\n",
            "I wish I could watch this movie every day for the rest of my life\n",
            "[0.18473093]\n",
            "\n",
            "\n"
          ],
          "name": "stdout"
        }
      ]
    },
    {
      "cell_type": "code",
      "metadata": {
        "id": "CMtHjrR2Q1mg",
        "outputId": "36707577-f5b0-4071-cb76-57d68213c632",
        "colab": {
          "base_uri": "https://localhost:8080/",
          "height": 867
        }
      },
      "source": [
        "print(\"===========================\\n\", \"With a single bidirectional LSTM:\\n\", \"===========================\")\n",
        "predict_review(model_bidi_lstm, more_reviews)"
      ],
      "execution_count": 43,
      "outputs": [
        {
          "output_type": "stream",
          "text": [
            "===========================\n",
            " With a single bidirectional LSTM:\n",
            " ===========================\n",
            "I loved this movie\n",
            "[0.94683695]\n",
            "\n",
            "\n",
            "that was the worst movie I've ever seen\n",
            "[0.02159452]\n",
            "\n",
            "\n",
            "too much violence even for a Bond film\n",
            "[0.17459436]\n",
            "\n",
            "\n",
            "a captivating recounting of a cherished myth\n",
            "[0.8439638]\n",
            "\n",
            "\n",
            "I saw this movie yesterday and I was feeling low to start with,\n",
            " but it was such a wonderful movie that it lifted my spirits and brightened \n",
            " my day, you can't go wrong with a movie with Whoopi Goldberg in it.\n",
            "[0.31819278]\n",
            "\n",
            "\n",
            "I don't understand why it received an oscar recommendation\n",
            " for best movie, it was long and boring\n",
            "[0.96798396]\n",
            "\n",
            "\n",
            "the scenery was magnificent, the CGI of the dogs was so realistic I\n",
            " thought they were played by real dogs even though they talked!\n",
            "[0.08979103]\n",
            "\n",
            "\n",
            "The ending was so sad and yet so uplifting at the same time. \n",
            " I'm looking for an excuse to see it again\n",
            "[0.7784617]\n",
            "\n",
            "\n",
            "I had expected so much more from a movie made by the director \n",
            " who made my most favorite movie ever, I was very disappointed in the tedious \n",
            " story\n",
            "[0.05945309]\n",
            "\n",
            "\n",
            "I wish I could watch this movie every day for the rest of my life\n",
            "[0.11905346]\n",
            "\n",
            "\n"
          ],
          "name": "stdout"
        }
      ]
    },
    {
      "cell_type": "code",
      "metadata": {
        "id": "iPIm5yUVQ31R",
        "outputId": "be854943-e6e0-408f-be8a-83a204db3a76",
        "colab": {
          "base_uri": "https://localhost:8080/",
          "height": 867
        }
      },
      "source": [
        "print(\"===========================\\n\", \"With multiple bidirectional LSTM:\\n\", \"==========================\")\n",
        "predict_review(model_multiple_bidi_lstm, more_reviews)"
      ],
      "execution_count": 44,
      "outputs": [
        {
          "output_type": "stream",
          "text": [
            "===========================\n",
            " With multiple bidirectional LSTM:\n",
            " ==========================\n",
            "I loved this movie\n",
            "[0.9995473]\n",
            "\n",
            "\n",
            "that was the worst movie I've ever seen\n",
            "[0.00634488]\n",
            "\n",
            "\n",
            "too much violence even for a Bond film\n",
            "[0.05214638]\n",
            "\n",
            "\n",
            "a captivating recounting of a cherished myth\n",
            "[0.99620444]\n",
            "\n",
            "\n",
            "I saw this movie yesterday and I was feeling low to start with,\n",
            " but it was such a wonderful movie that it lifted my spirits and brightened \n",
            " my day, you can't go wrong with a movie with Whoopi Goldberg in it.\n",
            "[0.14852802]\n",
            "\n",
            "\n",
            "I don't understand why it received an oscar recommendation\n",
            " for best movie, it was long and boring\n",
            "[0.940441]\n",
            "\n",
            "\n",
            "the scenery was magnificent, the CGI of the dogs was so realistic I\n",
            " thought they were played by real dogs even though they talked!\n",
            "[0.00052004]\n",
            "\n",
            "\n",
            "The ending was so sad and yet so uplifting at the same time. \n",
            " I'm looking for an excuse to see it again\n",
            "[0.00271056]\n",
            "\n",
            "\n",
            "I had expected so much more from a movie made by the director \n",
            " who made my most favorite movie ever, I was very disappointed in the tedious \n",
            " story\n",
            "[0.00117525]\n",
            "\n",
            "\n",
            "I wish I could watch this movie every day for the rest of my life\n",
            "[0.2043423]\n",
            "\n",
            "\n"
          ],
          "name": "stdout"
        }
      ]
    },
    {
      "cell_type": "code",
      "metadata": {
        "id": "rCxGbP_-Q5Rh"
      },
      "source": [
        ""
      ],
      "execution_count": 44,
      "outputs": []
    }
  ]
}