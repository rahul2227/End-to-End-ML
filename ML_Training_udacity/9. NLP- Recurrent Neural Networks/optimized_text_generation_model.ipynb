{
  "nbformat": 4,
  "nbformat_minor": 0,
  "metadata": {
    "colab": {
      "name": "optimized_text_generation_model.ipynb",
      "provenance": []
    },
    "kernelspec": {
      "name": "python3",
      "display_name": "Python 3"
    },
    "accelerator": "GPU"
  },
  "cells": [
    {
      "cell_type": "code",
      "metadata": {
        "id": "He0JrK9_gnDw"
      },
      "source": [
        "#importing libraries\n",
        "import tensorflow as tf\n",
        "\n",
        "from tensorflow.keras.preprocessing.text import Tokenizer\n",
        "from tensorflow.keras.preprocessing.sequence import pad_sequences\n",
        "\n",
        "# Other imports for processing data\n",
        "import string\n",
        "import numpy as np\n",
        "import pandas as pd\n",
        "\n",
        "from tensorflow.keras.models import Sequential\n",
        "from tensorflow.keras.layers import Embedding, LSTM, Dense, Bidirectional\n",
        "\n",
        "import matplotlib.pyplot as plt"
      ],
      "execution_count": 2,
      "outputs": []
    },
    {
      "cell_type": "code",
      "metadata": {
        "id": "aa4pg-xLpXGc",
        "outputId": "2ca89d79-8a19-44b5-bbf4-81449fb605ac",
        "colab": {
          "base_uri": "https://localhost:8080/",
          "height": 326
        }
      },
      "source": [
        "!wget --no-check-certificate \\\n",
        "    https://drive.google.com/uc?id=1LiJFZd41ofrWoBtW-pMYsfz1w8Ny0Bj8 \\\n",
        "    -O /tmp/songdata.csv\n",
        "    "
      ],
      "execution_count": 3,
      "outputs": [
        {
          "output_type": "stream",
          "text": [
            "--2020-09-29 06:56:24--  https://drive.google.com/uc?id=1LiJFZd41ofrWoBtW-pMYsfz1w8Ny0Bj8\n",
            "Resolving drive.google.com (drive.google.com)... 108.177.12.102, 108.177.12.113, 108.177.12.139, ...\n",
            "Connecting to drive.google.com (drive.google.com)|108.177.12.102|:443... connected.\n",
            "HTTP request sent, awaiting response... 302 Moved Temporarily\n",
            "Location: https://doc-04-ak-docs.googleusercontent.com/docs/securesc/ha0ro937gcuc7l7deffksulhg5h7mbp1/itclu89qba1daamiujl5fsd3ehg33tca/1601362575000/11118900490791463723/*/1LiJFZd41ofrWoBtW-pMYsfz1w8Ny0Bj8 [following]\n",
            "Warning: wildcards not supported in HTTP.\n",
            "--2020-09-29 06:56:26--  https://doc-04-ak-docs.googleusercontent.com/docs/securesc/ha0ro937gcuc7l7deffksulhg5h7mbp1/itclu89qba1daamiujl5fsd3ehg33tca/1601362575000/11118900490791463723/*/1LiJFZd41ofrWoBtW-pMYsfz1w8Ny0Bj8\n",
            "Resolving doc-04-ak-docs.googleusercontent.com (doc-04-ak-docs.googleusercontent.com)... 172.217.204.132, 2607:f8b0:400c:c15::84\n",
            "Connecting to doc-04-ak-docs.googleusercontent.com (doc-04-ak-docs.googleusercontent.com)|172.217.204.132|:443... connected.\n",
            "HTTP request sent, awaiting response... 200 OK\n",
            "Length: unspecified [text/csv]\n",
            "Saving to: ‘/tmp/songdata.csv’\n",
            "\n",
            "/tmp/songdata.csv       [   <=>              ]  69.08M   115MB/s    in 0.6s    \n",
            "\n",
            "2020-09-29 06:56:27 (115 MB/s) - ‘/tmp/songdata.csv’ saved [72436445]\n",
            "\n"
          ],
          "name": "stdout"
        }
      ]
    },
    {
      "cell_type": "code",
      "metadata": {
        "id": "s5v-cQhZpdYa"
      },
      "source": [
        "#taking a corpus of 250 songs and preprocessing is done\n",
        "def tokenize_corpus(corpus, num_words=-1):\n",
        "  # Fit a Tokenizer on the corpus\n",
        "  if num_words > -1:\n",
        "    tokenizer = Tokenizer(num_words=num_words)\n",
        "  else:\n",
        "    tokenizer = Tokenizer()\n",
        "  tokenizer.fit_on_texts(corpus)\n",
        "  return tokenizer\n",
        "\n",
        "def create_lyrics_corpus(dataset, field):\n",
        "  # Remove all other punctuation\n",
        "  dataset[field] = dataset[field].str.replace('[{}]'.format(string.punctuation), '')\n",
        "  # Make it lowercase\n",
        "  dataset[field] = dataset[field].str.lower()\n",
        "  # Make it one long string to split by line\n",
        "  lyrics = dataset[field].str.cat()\n",
        "  corpus = lyrics.split('\\n')\n",
        "  # Remove any trailing whitespace\n",
        "  for l in range(len(corpus)):\n",
        "    corpus[l] = corpus[l].rstrip()\n",
        "  # Remove any empty lines\n",
        "  corpus = [l for l in corpus if l != '']\n",
        "\n",
        "  return corpus"
      ],
      "execution_count": 5,
      "outputs": []
    },
    {
      "cell_type": "code",
      "metadata": {
        "id": "zc3W0pKPpiyq",
        "outputId": "85433ea8-85f0-46a4-b172-8d38473b5d8a",
        "colab": {
          "base_uri": "https://localhost:8080/",
          "height": 34
        }
      },
      "source": [
        "def tokenize_corpus(corpus, num_words=-1):\n",
        "  # Fit a Tokenizer on the corpus\n",
        "  if num_words > -1:\n",
        "    tokenizer = Tokenizer(num_words=num_words)\n",
        "  else:\n",
        "    tokenizer = Tokenizer()\n",
        "  tokenizer.fit_on_texts(corpus)\n",
        "  return tokenizer\n",
        "\n",
        "# Read the dataset from csv - this time with 250 songs\n",
        "dataset = pd.read_csv('/tmp/songdata.csv', dtype=str)[:250]\n",
        "# Create the corpus using the 'text' column containing lyrics\n",
        "corpus = create_lyrics_corpus(dataset, 'text')\n",
        "# Tokenize the corpus\n",
        "tokenizer = tokenize_corpus(corpus, num_words=2000)\n",
        "total_words = tokenizer.num_words\n",
        "\n",
        "# There should be a lot more words now\n",
        "print(total_words)"
      ],
      "execution_count": 6,
      "outputs": [
        {
          "output_type": "stream",
          "text": [
            "2000\n"
          ],
          "name": "stdout"
        }
      ]
    },
    {
      "cell_type": "code",
      "metadata": {
        "id": "3J5dlFWbptYy"
      },
      "source": [
        "#creating sequence and labels\n",
        "sequences = []\n",
        "for line in corpus:\n",
        "\ttoken_list = tokenizer.texts_to_sequences([line])[0]\n",
        "\tfor i in range(1, len(token_list)):\n",
        "\t\tn_gram_sequence = token_list[:i+1]\n",
        "\t\tsequences.append(n_gram_sequence)\n",
        "\n",
        "# Pad sequences for equal input length \n",
        "max_sequence_len = max([len(seq) for seq in sequences])\n",
        "sequences = np.array(pad_sequences(sequences, maxlen=max_sequence_len, padding='pre'))\n",
        "\n",
        "# Split sequences between the \"input\" sequence and \"output\" predicted word\n",
        "input_sequences, labels = sequences[:,:-1], sequences[:,-1]\n",
        "# One-hot encode the labels\n",
        "one_hot_labels = tf.keras.utils.to_categorical(labels, num_classes=total_words)"
      ],
      "execution_count": 7,
      "outputs": []
    },
    {
      "cell_type": "code",
      "metadata": {
        "id": "8saYRH1Rpw_6",
        "outputId": "debec0f0-f677-4c1a-aa1f-85e48cf1f886",
        "colab": {
          "base_uri": "https://localhost:8080/",
          "height": 1000
        }
      },
      "source": [
        "#trainiing the text generation model\n",
        "model = Sequential()\n",
        "model.add(Embedding(total_words, 64, input_length=max_sequence_len-1))\n",
        "model.add(Bidirectional(LSTM(20)))\n",
        "model.add(Dense(total_words, activation='softmax'))\n",
        "model.compile(loss='categorical_crossentropy', optimizer='adam', metrics=['accuracy'])\n",
        "history = model.fit(input_sequences, one_hot_labels, epochs=100, verbose=1)"
      ],
      "execution_count": 8,
      "outputs": [
        {
          "output_type": "stream",
          "text": [
            "Epoch 1/100\n",
            "1480/1480 [==============================] - 23s 16ms/step - loss: 5.9865 - accuracy: 0.0467\n",
            "Epoch 2/100\n",
            "1480/1480 [==============================] - 23s 15ms/step - loss: 5.6882 - accuracy: 0.0502\n",
            "Epoch 3/100\n",
            "1480/1480 [==============================] - 23s 15ms/step - loss: 5.4759 - accuracy: 0.0707\n",
            "Epoch 4/100\n",
            "1480/1480 [==============================] - 23s 15ms/step - loss: 5.2897 - accuracy: 0.0963\n",
            "Epoch 5/100\n",
            "1480/1480 [==============================] - 23s 15ms/step - loss: 5.1384 - accuracy: 0.1179\n",
            "Epoch 6/100\n",
            "1480/1480 [==============================] - 23s 15ms/step - loss: 4.9872 - accuracy: 0.1331\n",
            "Epoch 7/100\n",
            "1480/1480 [==============================] - 23s 16ms/step - loss: 4.8164 - accuracy: 0.1480\n",
            "Epoch 8/100\n",
            "1480/1480 [==============================] - 29s 20ms/step - loss: 4.6587 - accuracy: 0.1625\n",
            "Epoch 9/100\n",
            "1480/1480 [==============================] - 23s 16ms/step - loss: 4.5263 - accuracy: 0.1775\n",
            "Epoch 10/100\n",
            "1480/1480 [==============================] - 23s 16ms/step - loss: 4.4125 - accuracy: 0.1895\n",
            "Epoch 11/100\n",
            "1480/1480 [==============================] - 22s 15ms/step - loss: 4.3113 - accuracy: 0.2004\n",
            "Epoch 12/100\n",
            "1480/1480 [==============================] - 23s 15ms/step - loss: 4.2191 - accuracy: 0.2116\n",
            "Epoch 13/100\n",
            "1480/1480 [==============================] - 22s 15ms/step - loss: 4.1351 - accuracy: 0.2206\n",
            "Epoch 14/100\n",
            "1480/1480 [==============================] - 23s 15ms/step - loss: 4.0589 - accuracy: 0.2323\n",
            "Epoch 15/100\n",
            "1480/1480 [==============================] - 23s 15ms/step - loss: 3.9833 - accuracy: 0.2407\n",
            "Epoch 16/100\n",
            "1480/1480 [==============================] - 23s 15ms/step - loss: 3.9119 - accuracy: 0.2511\n",
            "Epoch 17/100\n",
            "1480/1480 [==============================] - 22s 15ms/step - loss: 3.8419 - accuracy: 0.2576\n",
            "Epoch 18/100\n",
            "1480/1480 [==============================] - 23s 15ms/step - loss: 3.7786 - accuracy: 0.2666\n",
            "Epoch 19/100\n",
            "1480/1480 [==============================] - 23s 15ms/step - loss: 3.7188 - accuracy: 0.2748\n",
            "Epoch 20/100\n",
            "1480/1480 [==============================] - 23s 15ms/step - loss: 3.6630 - accuracy: 0.2832\n",
            "Epoch 21/100\n",
            "1480/1480 [==============================] - 23s 15ms/step - loss: 3.6136 - accuracy: 0.2915\n",
            "Epoch 22/100\n",
            "1480/1480 [==============================] - 23s 15ms/step - loss: 3.5657 - accuracy: 0.2963\n",
            "Epoch 23/100\n",
            "1480/1480 [==============================] - 22s 15ms/step - loss: 3.5250 - accuracy: 0.3025\n",
            "Epoch 24/100\n",
            "1480/1480 [==============================] - 23s 15ms/step - loss: 3.4806 - accuracy: 0.3122\n",
            "Epoch 25/100\n",
            "1480/1480 [==============================] - 22s 15ms/step - loss: 3.4403 - accuracy: 0.3159\n",
            "Epoch 26/100\n",
            "1480/1480 [==============================] - 22s 15ms/step - loss: 3.4114 - accuracy: 0.3217\n",
            "Epoch 27/100\n",
            "1480/1480 [==============================] - 22s 15ms/step - loss: 3.3702 - accuracy: 0.3273\n",
            "Epoch 28/100\n",
            "1480/1480 [==============================] - 22s 15ms/step - loss: 3.3438 - accuracy: 0.3307\n",
            "Epoch 29/100\n",
            "1480/1480 [==============================] - 23s 16ms/step - loss: 3.3040 - accuracy: 0.3384\n",
            "Epoch 30/100\n",
            "1480/1480 [==============================] - 22s 15ms/step - loss: 3.2728 - accuracy: 0.3437\n",
            "Epoch 31/100\n",
            "1480/1480 [==============================] - 23s 15ms/step - loss: 3.2416 - accuracy: 0.3472\n",
            "Epoch 32/100\n",
            "1480/1480 [==============================] - 23s 15ms/step - loss: 3.2177 - accuracy: 0.3508\n",
            "Epoch 33/100\n",
            "1480/1480 [==============================] - 22s 15ms/step - loss: 3.1876 - accuracy: 0.3555\n",
            "Epoch 34/100\n",
            "1480/1480 [==============================] - 23s 15ms/step - loss: 3.1643 - accuracy: 0.3581\n",
            "Epoch 35/100\n",
            "1480/1480 [==============================] - 23s 15ms/step - loss: 3.1387 - accuracy: 0.3630\n",
            "Epoch 36/100\n",
            "1480/1480 [==============================] - 23s 15ms/step - loss: 3.1162 - accuracy: 0.3658\n",
            "Epoch 37/100\n",
            "1480/1480 [==============================] - 22s 15ms/step - loss: 3.1045 - accuracy: 0.3675\n",
            "Epoch 38/100\n",
            "1480/1480 [==============================] - 23s 16ms/step - loss: 3.0692 - accuracy: 0.3722\n",
            "Epoch 39/100\n",
            "1480/1480 [==============================] - 23s 15ms/step - loss: 3.0486 - accuracy: 0.3763\n",
            "Epoch 40/100\n",
            "1480/1480 [==============================] - 23s 16ms/step - loss: 3.0260 - accuracy: 0.3781\n",
            "Epoch 41/100\n",
            "1480/1480 [==============================] - 22s 15ms/step - loss: 3.0107 - accuracy: 0.3819\n",
            "Epoch 42/100\n",
            "1480/1480 [==============================] - 22s 15ms/step - loss: 2.9876 - accuracy: 0.3857\n",
            "Epoch 43/100\n",
            "1480/1480 [==============================] - 23s 15ms/step - loss: 2.9759 - accuracy: 0.3883\n",
            "Epoch 44/100\n",
            "1480/1480 [==============================] - 23s 15ms/step - loss: 2.9568 - accuracy: 0.3907\n",
            "Epoch 45/100\n",
            "1480/1480 [==============================] - 23s 15ms/step - loss: 2.9314 - accuracy: 0.3945\n",
            "Epoch 46/100\n",
            "1480/1480 [==============================] - 23s 15ms/step - loss: 2.9125 - accuracy: 0.3989\n",
            "Epoch 47/100\n",
            "1480/1480 [==============================] - 22s 15ms/step - loss: 2.8989 - accuracy: 0.4006\n",
            "Epoch 48/100\n",
            "1480/1480 [==============================] - 23s 16ms/step - loss: 2.8848 - accuracy: 0.4025\n",
            "Epoch 49/100\n",
            "1480/1480 [==============================] - 22s 15ms/step - loss: 2.8663 - accuracy: 0.4060\n",
            "Epoch 50/100\n",
            "1480/1480 [==============================] - 23s 15ms/step - loss: 2.8506 - accuracy: 0.4080\n",
            "Epoch 51/100\n",
            "1480/1480 [==============================] - 22s 15ms/step - loss: 2.8375 - accuracy: 0.4102\n",
            "Epoch 52/100\n",
            "1480/1480 [==============================] - 23s 15ms/step - loss: 2.8216 - accuracy: 0.4119\n",
            "Epoch 53/100\n",
            "1480/1480 [==============================] - 22s 15ms/step - loss: 2.8079 - accuracy: 0.4159\n",
            "Epoch 54/100\n",
            "1480/1480 [==============================] - 22s 15ms/step - loss: 2.8086 - accuracy: 0.4149\n",
            "Epoch 55/100\n",
            "1480/1480 [==============================] - 23s 15ms/step - loss: 2.7903 - accuracy: 0.4185\n",
            "Epoch 56/100\n",
            "1480/1480 [==============================] - 22s 15ms/step - loss: 2.7719 - accuracy: 0.4195\n",
            "Epoch 57/100\n",
            "1480/1480 [==============================] - 22s 15ms/step - loss: 2.7525 - accuracy: 0.4237\n",
            "Epoch 58/100\n",
            "1480/1480 [==============================] - 22s 15ms/step - loss: 2.7525 - accuracy: 0.4233\n",
            "Epoch 59/100\n",
            "1480/1480 [==============================] - 23s 15ms/step - loss: 2.7281 - accuracy: 0.4283\n",
            "Epoch 60/100\n",
            "1480/1480 [==============================] - 22s 15ms/step - loss: 2.7151 - accuracy: 0.4301\n",
            "Epoch 61/100\n",
            "1480/1480 [==============================] - 22s 15ms/step - loss: 2.7086 - accuracy: 0.4296\n",
            "Epoch 62/100\n",
            "1480/1480 [==============================] - 23s 16ms/step - loss: 2.6883 - accuracy: 0.4330\n",
            "Epoch 63/100\n",
            "1480/1480 [==============================] - 22s 15ms/step - loss: 2.6791 - accuracy: 0.4357\n",
            "Epoch 64/100\n",
            "1480/1480 [==============================] - 23s 16ms/step - loss: 2.6673 - accuracy: 0.4386\n",
            "Epoch 65/100\n",
            "1480/1480 [==============================] - 23s 16ms/step - loss: 2.6550 - accuracy: 0.4402\n",
            "Epoch 66/100\n",
            "1480/1480 [==============================] - 23s 15ms/step - loss: 2.6561 - accuracy: 0.4401\n",
            "Epoch 67/100\n",
            "1480/1480 [==============================] - 22s 15ms/step - loss: 2.6424 - accuracy: 0.4412\n",
            "Epoch 68/100\n",
            "1480/1480 [==============================] - 22s 15ms/step - loss: 2.6273 - accuracy: 0.4433\n",
            "Epoch 69/100\n",
            "1480/1480 [==============================] - 23s 15ms/step - loss: 2.6133 - accuracy: 0.4479\n",
            "Epoch 70/100\n",
            "1480/1480 [==============================] - 22s 15ms/step - loss: 2.6027 - accuracy: 0.4493\n",
            "Epoch 71/100\n",
            "1480/1480 [==============================] - 22s 15ms/step - loss: 2.6100 - accuracy: 0.4458\n",
            "Epoch 72/100\n",
            "1480/1480 [==============================] - 22s 15ms/step - loss: 2.5931 - accuracy: 0.4497\n",
            "Epoch 73/100\n",
            "1480/1480 [==============================] - 23s 15ms/step - loss: 2.5764 - accuracy: 0.4528\n",
            "Epoch 74/100\n",
            "1480/1480 [==============================] - 22s 15ms/step - loss: 2.5776 - accuracy: 0.4545\n",
            "Epoch 75/100\n",
            "1480/1480 [==============================] - 22s 15ms/step - loss: 2.5616 - accuracy: 0.4565\n",
            "Epoch 76/100\n",
            "1480/1480 [==============================] - 23s 16ms/step - loss: 2.5437 - accuracy: 0.4585\n",
            "Epoch 77/100\n",
            "1480/1480 [==============================] - 23s 15ms/step - loss: 2.5409 - accuracy: 0.4595\n",
            "Epoch 78/100\n",
            "1480/1480 [==============================] - 23s 15ms/step - loss: 2.5391 - accuracy: 0.4591\n",
            "Epoch 79/100\n",
            "1480/1480 [==============================] - 22s 15ms/step - loss: 2.5253 - accuracy: 0.4619\n",
            "Epoch 80/100\n",
            "1480/1480 [==============================] - 23s 15ms/step - loss: 2.5093 - accuracy: 0.4650\n",
            "Epoch 81/100\n",
            "1480/1480 [==============================] - 23s 15ms/step - loss: 2.5065 - accuracy: 0.4663\n",
            "Epoch 82/100\n",
            "1480/1480 [==============================] - 23s 16ms/step - loss: 2.5078 - accuracy: 0.4644\n",
            "Epoch 83/100\n",
            "1480/1480 [==============================] - 23s 16ms/step - loss: 2.4893 - accuracy: 0.4687\n",
            "Epoch 84/100\n",
            "1480/1480 [==============================] - 22s 15ms/step - loss: 2.4835 - accuracy: 0.4673\n",
            "Epoch 85/100\n",
            "1480/1480 [==============================] - 23s 15ms/step - loss: 2.4734 - accuracy: 0.4715\n",
            "Epoch 86/100\n",
            "1480/1480 [==============================] - 22s 15ms/step - loss: 2.4621 - accuracy: 0.4735\n",
            "Epoch 87/100\n",
            "1480/1480 [==============================] - 23s 16ms/step - loss: 2.4563 - accuracy: 0.4738\n",
            "Epoch 88/100\n",
            "1480/1480 [==============================] - 23s 15ms/step - loss: 2.4508 - accuracy: 0.4743\n",
            "Epoch 89/100\n",
            "1480/1480 [==============================] - 23s 15ms/step - loss: 2.4394 - accuracy: 0.4767\n",
            "Epoch 90/100\n",
            "1480/1480 [==============================] - 23s 15ms/step - loss: 2.4363 - accuracy: 0.4756\n",
            "Epoch 91/100\n",
            "1480/1480 [==============================] - 23s 15ms/step - loss: 2.4316 - accuracy: 0.4787\n",
            "Epoch 92/100\n",
            "1480/1480 [==============================] - 22s 15ms/step - loss: 2.4251 - accuracy: 0.4793\n",
            "Epoch 93/100\n",
            "1480/1480 [==============================] - 23s 15ms/step - loss: 2.4110 - accuracy: 0.4814\n",
            "Epoch 94/100\n",
            "1480/1480 [==============================] - 23s 15ms/step - loss: 2.4175 - accuracy: 0.4793\n",
            "Epoch 95/100\n",
            "1480/1480 [==============================] - 23s 15ms/step - loss: 2.4155 - accuracy: 0.4786\n",
            "Epoch 96/100\n",
            "1480/1480 [==============================] - 23s 15ms/step - loss: 2.3915 - accuracy: 0.4848\n",
            "Epoch 97/100\n",
            "1480/1480 [==============================] - 23s 15ms/step - loss: 2.3853 - accuracy: 0.4864\n",
            "Epoch 98/100\n",
            "1480/1480 [==============================] - 22s 15ms/step - loss: 2.3844 - accuracy: 0.4856\n",
            "Epoch 99/100\n",
            "1480/1480 [==============================] - 22s 15ms/step - loss: 2.4026 - accuracy: 0.4817\n",
            "Epoch 100/100\n",
            "1480/1480 [==============================] - 22s 15ms/step - loss: 2.3939 - accuracy: 0.4858\n"
          ],
          "name": "stdout"
        }
      ]
    },
    {
      "cell_type": "code",
      "metadata": {
        "id": "LcTFrzxyp3aa",
        "outputId": "9895bcc3-dc57-4d50-dc81-4f6729ce0cb7",
        "colab": {
          "base_uri": "https://localhost:8080/",
          "height": 280
        }
      },
      "source": [
        "#plotting the graph\n",
        "def plot_graphs(history, string):\n",
        "  plt.plot(history.history[string])\n",
        "  plt.xlabel(\"Epochs\")\n",
        "  plt.ylabel(string)\n",
        "  plt.show()\n",
        "\n",
        "plot_graphs(history, 'accuracy')"
      ],
      "execution_count": 9,
      "outputs": [
        {
          "output_type": "display_data",
          "data": {
            "image/png": "[encoded data removed]",
            "text/plain": [
              "<Figure size 432x288 with 1 Axes>"
            ]
          },
          "metadata": {
            "tags": [],
            "needs_background": "light"
          }
        }
      ]
    },
    {
      "cell_type": "code",
      "metadata": {
        "id": "30-5ZRn5p7Vb",
        "outputId": "2abcac3d-e528-4d3f-b8aa-0e9cbcde831d",
        "colab": {
          "base_uri": "https://localhost:8080/",
          "height": 54
        }
      },
      "source": [
        "#generation of lyrics\n",
        "seed_text = \"im feeling chills\"\n",
        "next_words = 100\n",
        "  \n",
        "for _ in range(next_words):\n",
        "\ttoken_list = tokenizer.texts_to_sequences([seed_text])[0]\n",
        "\ttoken_list = pad_sequences([token_list], maxlen=max_sequence_len-1, padding='pre')\n",
        "\tpredicted = np.argmax(model.predict(token_list), axis=-1)\n",
        "\toutput_word = \"\"\n",
        "\tfor word, index in tokenizer.word_index.items():\n",
        "\t\tif index == predicted:\n",
        "\t\t\toutput_word = word\n",
        "\t\t\tbreak\n",
        "\tseed_text += \" \" + output_word\n",
        "print(seed_text)"
      ],
      "execution_count": 10,
      "outputs": [
        {
          "output_type": "stream",
          "text": [
            "im feeling chills the end of the park and homes all around and the bone and the bone and the things that make him see my ways to take me down to dreams you go and bobby other smokin tv light around and be deep inside the pain you magic spell where was a fellow hit every body room for the nights i love was so hard to hear a watch me you cant get you i gotta have to be home yonder thats love and you find me darling see me and you and me and pay the rich of your uncle\n"
          ],
          "name": "stdout"
        }
      ]
    },
    {
      "cell_type": "code",
      "metadata": {
        "id": "jVRHCK0WqBWy",
        "outputId": "0e9cc987-6db0-4f2b-c8cb-73fdd64ef375",
        "colab": {
          "base_uri": "https://localhost:8080/",
          "height": 34
        }
      },
      "source": [
        "#varying possible outputs by switching from model.predict_classes to model.predict_proba\n",
        "#by combining this with np.random.choice\n",
        "# Test the method with just the first word after the seed text\n",
        "seed_text = \"im feeling chills\"\n",
        "next_words = 100\n",
        "  \n",
        "token_list = tokenizer.texts_to_sequences([seed_text])[0]\n",
        "token_list = pad_sequences([token_list], maxlen=max_sequence_len-1, padding='pre')\n",
        "predicted_probs = model.predict(token_list)[0]\n",
        "predicted = np.random.choice([x for x in range(len(predicted_probs))], \n",
        "                             p=predicted_probs)\n",
        "# Running this cell multiple times should get you some variance in output\n",
        "print(predicted)"
      ],
      "execution_count": 11,
      "outputs": [
        {
          "output_type": "stream",
          "text": [
            "1\n"
          ],
          "name": "stdout"
        }
      ]
    },
    {
      "cell_type": "code",
      "metadata": {
        "id": "EOv_TIMdqZ_i",
        "outputId": "88bc2629-cc72-4f6b-b25b-4bfe4fbfe477",
        "colab": {
          "base_uri": "https://localhost:8080/",
          "height": 54
        }
      },
      "source": [
        "# Use this process for the full output generation\n",
        "seed_text = \"im feeling chills\"\n",
        "next_words = 100\n",
        "  \n",
        "for _ in range(next_words):\n",
        "  token_list = tokenizer.texts_to_sequences([seed_text])[0]\n",
        "  token_list = pad_sequences([token_list], maxlen=max_sequence_len-1, padding='pre')\n",
        "  predicted_probs = model.predict(token_list)[0]\n",
        "  predicted = np.random.choice([x for x in range(len(predicted_probs))],\n",
        "                               p=predicted_probs)\n",
        "  output_word = \"\"\n",
        "  for word, index in tokenizer.word_index.items():\n",
        "    if index == predicted:\n",
        "      output_word = word\n",
        "      break\n",
        "  seed_text += \" \" + output_word\n",
        "print(seed_text)"
      ],
      "execution_count": 12,
      "outputs": [
        {
          "output_type": "stream",
          "text": [
            "im feeling chills me alone we know it from the worst i am the jet side black black nights i john can i got awake you bout me ahhah no no more you touch my knees got thing be shoes my own party up his kind space and now affairs or in pneumonia and travelled in phone crazy ball once morning that boogie you ball attraction this of all of me what what we can get right anywhere you opened up gonna be waiting at hand youve begun that forgotten stare jump ok wing doors club theres just what you was us so\n"
          ],
          "name": "stdout"
        }
      ]
    },
    {
      "cell_type": "code",
      "metadata": {
        "id": "wKBfCcBRqcmh"
      },
      "source": [
        ""
      ],
      "execution_count": null,
      "outputs": []
    }
  ]
}